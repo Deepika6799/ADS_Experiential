{
  "nbformat": 4,
  "nbformat_minor": 0,
  "metadata": {
    "colab": {
      "name": "Deepika_ADS2_Final.ipynb",
      "provenance": []
    },
    "kernelspec": {
      "name": "python3",
      "display_name": "Python 3"
    }
  },
  "cells": [
    {
      "cell_type": "markdown",
      "metadata": {
        "id": "sBOHz1_qPZz_"
      },
      "source": [
        "Data description\n",
        "\n",
        "1. Trip Duration (seconds) — How long a trip lasted\n",
        "2. Start Time and Date - Time and date of the start of trip\n",
        "3. Stop Time and Date - Time and date of the end of trip\n",
        "4. Start Station Name - Name of starting station\n",
        "5. End Station Name - Name of ending station\n",
        "6. Station ID - Unique identifier for each station\n",
        "7. Station Lat/Long - Coordinates\n",
        "8. Bike ID - unique identifier for each bike\n",
        "9. User Type (Customer = 24-hour pass or 3-day pass user;  Subscriber = Annual Member) - Customers are usually tourists, subscribers are usually NYC residents\n",
        "10. Gender (Zero=unknown; 1=male; 2=female) - Usually unknown for customers since they often sign up at a kiosk\n",
        "11. Year of Birth - Self entered, not validated by an ID.\n"
      ]
    },
    {
      "cell_type": "code",
      "metadata": {
        "id": "YTKDCFwOPbxu"
      },
      "source": [
        "import pandas as pd\n",
        "import numpy as np\n",
        "from datetime import datetime\n",
        "from sklearn.preprocessing import LabelEncoder\n",
        "import matplotlib.pyplot as plt"
      ],
      "execution_count": 1,
      "outputs": []
    },
    {
      "cell_type": "code",
      "metadata": {
        "id": "ODqXP2NpPj0C",
        "outputId": "bf989683-dc19-49ca-ddb4-1d63dc160468",
        "colab": {
          "base_uri": "https://localhost:8080/"
        }
      },
      "source": [
        "df= pd.read_csv(\"citibike.csv\", index_col=0)\n",
        "print(df.shape)"
      ],
      "execution_count": 2,
      "outputs": [
        {
          "output_type": "stream",
          "text": [
            "(843114, 14)\n"
          ],
          "name": "stdout"
        }
      ]
    },
    {
      "cell_type": "code",
      "metadata": {
        "id": "elRjQ5dSP5lM",
        "outputId": "e9fe5bcc-2d40-49fe-9ae3-7c3e3c9aff7b",
        "colab": {
          "base_uri": "https://localhost:8080/",
          "height": 445
        }
      },
      "source": [
        "df = df.reset_index()\n",
        "df.head()"
      ],
      "execution_count": 3,
      "outputs": [
        {
          "output_type": "execute_result",
          "data": {
            "text/html": [
              "<div>\n",
              "<style scoped>\n",
              "    .dataframe tbody tr th:only-of-type {\n",
              "        vertical-align: middle;\n",
              "    }\n",
              "\n",
              "    .dataframe tbody tr th {\n",
              "        vertical-align: top;\n",
              "    }\n",
              "\n",
              "    .dataframe thead th {\n",
              "        text-align: right;\n",
              "    }\n",
              "</style>\n",
              "<table border=\"1\" class=\"dataframe\">\n",
              "  <thead>\n",
              "    <tr style=\"text-align: right;\">\n",
              "      <th></th>\n",
              "      <th>tripduration</th>\n",
              "      <th>starttime</th>\n",
              "      <th>stoptime</th>\n",
              "      <th>start station id</th>\n",
              "      <th>start station name</th>\n",
              "      <th>start station latitude</th>\n",
              "      <th>start station longitude</th>\n",
              "      <th>end station id</th>\n",
              "      <th>end station name</th>\n",
              "      <th>end station latitude</th>\n",
              "      <th>end station longitude</th>\n",
              "      <th>bikeid</th>\n",
              "      <th>usertype</th>\n",
              "      <th>birth year</th>\n",
              "      <th>gender</th>\n",
              "    </tr>\n",
              "  </thead>\n",
              "  <tbody>\n",
              "    <tr>\n",
              "      <th>0</th>\n",
              "      <td>771</td>\n",
              "      <td>2018-02-01 00:14:16.4120</td>\n",
              "      <td>2018-02-01 00:27:08.2290</td>\n",
              "      <td>72</td>\n",
              "      <td>W 52 St &amp; 11 Ave</td>\n",
              "      <td>40.767272</td>\n",
              "      <td>-73.993929</td>\n",
              "      <td>379</td>\n",
              "      <td>W 31 St &amp; 7 Ave</td>\n",
              "      <td>40.749156</td>\n",
              "      <td>-73.991600</td>\n",
              "      <td>14536</td>\n",
              "      <td>Subscriber</td>\n",
              "      <td>1952</td>\n",
              "      <td>1</td>\n",
              "    </tr>\n",
              "    <tr>\n",
              "      <th>1</th>\n",
              "      <td>264</td>\n",
              "      <td>2018-02-01 05:14:45.1790</td>\n",
              "      <td>2018-02-01 05:19:09.6860</td>\n",
              "      <td>72</td>\n",
              "      <td>W 52 St &amp; 11 Ave</td>\n",
              "      <td>40.767272</td>\n",
              "      <td>-73.993929</td>\n",
              "      <td>478</td>\n",
              "      <td>11 Ave &amp; W 41 St</td>\n",
              "      <td>40.760301</td>\n",
              "      <td>-73.998842</td>\n",
              "      <td>32820</td>\n",
              "      <td>Subscriber</td>\n",
              "      <td>1965</td>\n",
              "      <td>1</td>\n",
              "    </tr>\n",
              "    <tr>\n",
              "      <th>2</th>\n",
              "      <td>819</td>\n",
              "      <td>2018-02-01 06:48:55.2290</td>\n",
              "      <td>2018-02-01 07:02:35.0290</td>\n",
              "      <td>72</td>\n",
              "      <td>W 52 St &amp; 11 Ave</td>\n",
              "      <td>40.767272</td>\n",
              "      <td>-73.993929</td>\n",
              "      <td>405</td>\n",
              "      <td>Washington St &amp; Gansevoort St</td>\n",
              "      <td>40.739323</td>\n",
              "      <td>-74.008119</td>\n",
              "      <td>16131</td>\n",
              "      <td>Subscriber</td>\n",
              "      <td>1968</td>\n",
              "      <td>1</td>\n",
              "    </tr>\n",
              "    <tr>\n",
              "      <th>3</th>\n",
              "      <td>646</td>\n",
              "      <td>2018-02-01 07:12:50.1740</td>\n",
              "      <td>2018-02-01 07:23:36.5280</td>\n",
              "      <td>72</td>\n",
              "      <td>W 52 St &amp; 11 Ave</td>\n",
              "      <td>40.767272</td>\n",
              "      <td>-73.993929</td>\n",
              "      <td>2006</td>\n",
              "      <td>Central Park S &amp; 6 Ave</td>\n",
              "      <td>40.765909</td>\n",
              "      <td>-73.976342</td>\n",
              "      <td>20831</td>\n",
              "      <td>Subscriber</td>\n",
              "      <td>1990</td>\n",
              "      <td>2</td>\n",
              "    </tr>\n",
              "    <tr>\n",
              "      <th>4</th>\n",
              "      <td>1312</td>\n",
              "      <td>2018-02-01 07:46:48.8750</td>\n",
              "      <td>2018-02-01 08:08:41.5430</td>\n",
              "      <td>72</td>\n",
              "      <td>W 52 St &amp; 11 Ave</td>\n",
              "      <td>40.767272</td>\n",
              "      <td>-73.993929</td>\n",
              "      <td>435</td>\n",
              "      <td>W 21 St &amp; 6 Ave</td>\n",
              "      <td>40.741740</td>\n",
              "      <td>-73.994156</td>\n",
              "      <td>15899</td>\n",
              "      <td>Subscriber</td>\n",
              "      <td>1957</td>\n",
              "      <td>1</td>\n",
              "    </tr>\n",
              "  </tbody>\n",
              "</table>\n",
              "</div>"
            ],
            "text/plain": [
              "   tripduration                 starttime  ... birth year  gender\n",
              "0           771  2018-02-01 00:14:16.4120  ...       1952       1\n",
              "1           264  2018-02-01 05:14:45.1790  ...       1965       1\n",
              "2           819  2018-02-01 06:48:55.2290  ...       1968       1\n",
              "3           646  2018-02-01 07:12:50.1740  ...       1990       2\n",
              "4          1312  2018-02-01 07:46:48.8750  ...       1957       1\n",
              "\n",
              "[5 rows x 15 columns]"
            ]
          },
          "metadata": {
            "tags": []
          },
          "execution_count": 3
        }
      ]
    },
    {
      "cell_type": "code",
      "metadata": {
        "id": "-sH_yOFTP6VR",
        "outputId": "529844b0-17fb-490a-ace8-e2f3c2bff277",
        "colab": {
          "base_uri": "https://localhost:8080/"
        }
      },
      "source": [
        "df.info()"
      ],
      "execution_count": 4,
      "outputs": [
        {
          "output_type": "stream",
          "text": [
            "<class 'pandas.core.frame.DataFrame'>\n",
            "RangeIndex: 843114 entries, 0 to 843113\n",
            "Data columns (total 15 columns):\n",
            " #   Column                   Non-Null Count   Dtype  \n",
            "---  ------                   --------------   -----  \n",
            " 0   tripduration             843114 non-null  int64  \n",
            " 1   starttime                843114 non-null  object \n",
            " 2   stoptime                 843114 non-null  object \n",
            " 3   start station id         843114 non-null  int64  \n",
            " 4   start station name       843114 non-null  object \n",
            " 5   start station latitude   843114 non-null  float64\n",
            " 6   start station longitude  843114 non-null  float64\n",
            " 7   end station id           843114 non-null  int64  \n",
            " 8   end station name         843114 non-null  object \n",
            " 9   end station latitude     843114 non-null  float64\n",
            " 10  end station longitude    843114 non-null  float64\n",
            " 11  bikeid                   843114 non-null  int64  \n",
            " 12  usertype                 843114 non-null  object \n",
            " 13  birth year               843114 non-null  int64  \n",
            " 14  gender                   843114 non-null  int64  \n",
            "dtypes: float64(4), int64(6), object(5)\n",
            "memory usage: 96.5+ MB\n"
          ],
          "name": "stdout"
        }
      ]
    },
    {
      "cell_type": "code",
      "metadata": {
        "id": "BKqtu5dYP7ky",
        "outputId": "a35f9980-b80e-4639-a876-79ae58c57b0e",
        "colab": {
          "base_uri": "https://localhost:8080/",
          "height": 351
        }
      },
      "source": [
        "df.describe()"
      ],
      "execution_count": 5,
      "outputs": [
        {
          "output_type": "execute_result",
          "data": {
            "text/html": [
              "<div>\n",
              "<style scoped>\n",
              "    .dataframe tbody tr th:only-of-type {\n",
              "        vertical-align: middle;\n",
              "    }\n",
              "\n",
              "    .dataframe tbody tr th {\n",
              "        vertical-align: top;\n",
              "    }\n",
              "\n",
              "    .dataframe thead th {\n",
              "        text-align: right;\n",
              "    }\n",
              "</style>\n",
              "<table border=\"1\" class=\"dataframe\">\n",
              "  <thead>\n",
              "    <tr style=\"text-align: right;\">\n",
              "      <th></th>\n",
              "      <th>tripduration</th>\n",
              "      <th>start station id</th>\n",
              "      <th>start station latitude</th>\n",
              "      <th>start station longitude</th>\n",
              "      <th>end station id</th>\n",
              "      <th>end station latitude</th>\n",
              "      <th>end station longitude</th>\n",
              "      <th>bikeid</th>\n",
              "      <th>birth year</th>\n",
              "      <th>gender</th>\n",
              "    </tr>\n",
              "  </thead>\n",
              "  <tbody>\n",
              "    <tr>\n",
              "      <th>count</th>\n",
              "      <td>8.431140e+05</td>\n",
              "      <td>843114.000000</td>\n",
              "      <td>843114.000000</td>\n",
              "      <td>843114.000000</td>\n",
              "      <td>843114.000000</td>\n",
              "      <td>843114.000000</td>\n",
              "      <td>843114.000000</td>\n",
              "      <td>843114.000000</td>\n",
              "      <td>843114.000000</td>\n",
              "      <td>843114.000000</td>\n",
              "    </tr>\n",
              "    <tr>\n",
              "      <th>mean</th>\n",
              "      <td>8.773978e+02</td>\n",
              "      <td>1478.710958</td>\n",
              "      <td>40.737798</td>\n",
              "      <td>-73.983275</td>\n",
              "      <td>1465.978935</td>\n",
              "      <td>40.737472</td>\n",
              "      <td>-73.983562</td>\n",
              "      <td>26003.308082</td>\n",
              "      <td>1978.021175</td>\n",
              "      <td>1.167435</td>\n",
              "    </tr>\n",
              "    <tr>\n",
              "      <th>std</th>\n",
              "      <td>3.388293e+04</td>\n",
              "      <td>1405.478598</td>\n",
              "      <td>0.034001</td>\n",
              "      <td>0.017959</td>\n",
              "      <td>1402.289590</td>\n",
              "      <td>0.033708</td>\n",
              "      <td>0.018029</td>\n",
              "      <td>6399.367597</td>\n",
              "      <td>12.174693</td>\n",
              "      <td>0.484275</td>\n",
              "    </tr>\n",
              "    <tr>\n",
              "      <th>min</th>\n",
              "      <td>6.100000e+01</td>\n",
              "      <td>72.000000</td>\n",
              "      <td>40.646538</td>\n",
              "      <td>-74.017134</td>\n",
              "      <td>72.000000</td>\n",
              "      <td>40.646538</td>\n",
              "      <td>-74.041050</td>\n",
              "      <td>14529.000000</td>\n",
              "      <td>1885.000000</td>\n",
              "      <td>0.000000</td>\n",
              "    </tr>\n",
              "    <tr>\n",
              "      <th>25%</th>\n",
              "      <td>3.190000e+02</td>\n",
              "      <td>376.000000</td>\n",
              "      <td>40.719105</td>\n",
              "      <td>-73.994758</td>\n",
              "      <td>369.000000</td>\n",
              "      <td>40.719105</td>\n",
              "      <td>-73.995101</td>\n",
              "      <td>19432.000000</td>\n",
              "      <td>1969.000000</td>\n",
              "      <td>1.000000</td>\n",
              "    </tr>\n",
              "    <tr>\n",
              "      <th>50%</th>\n",
              "      <td>5.190000e+02</td>\n",
              "      <td>497.000000</td>\n",
              "      <td>40.739323</td>\n",
              "      <td>-73.986022</td>\n",
              "      <td>497.000000</td>\n",
              "      <td>40.739126</td>\n",
              "      <td>-73.986724</td>\n",
              "      <td>28384.000000</td>\n",
              "      <td>1980.000000</td>\n",
              "      <td>1.000000</td>\n",
              "    </tr>\n",
              "    <tr>\n",
              "      <th>75%</th>\n",
              "      <td>8.720000e+02</td>\n",
              "      <td>3172.000000</td>\n",
              "      <td>40.756687</td>\n",
              "      <td>-73.974987</td>\n",
              "      <td>3171.000000</td>\n",
              "      <td>40.756405</td>\n",
              "      <td>-73.975361</td>\n",
              "      <td>31657.000000</td>\n",
              "      <td>1988.000000</td>\n",
              "      <td>1.000000</td>\n",
              "    </tr>\n",
              "    <tr>\n",
              "      <th>max</th>\n",
              "      <td>1.596226e+07</td>\n",
              "      <td>3664.000000</td>\n",
              "      <td>45.506264</td>\n",
              "      <td>-73.568906</td>\n",
              "      <td>3668.000000</td>\n",
              "      <td>45.506264</td>\n",
              "      <td>-73.568906</td>\n",
              "      <td>33541.000000</td>\n",
              "      <td>2002.000000</td>\n",
              "      <td>2.000000</td>\n",
              "    </tr>\n",
              "  </tbody>\n",
              "</table>\n",
              "</div>"
            ],
            "text/plain": [
              "       tripduration  start station id  ...     birth year         gender\n",
              "count  8.431140e+05     843114.000000  ...  843114.000000  843114.000000\n",
              "mean   8.773978e+02       1478.710958  ...    1978.021175       1.167435\n",
              "std    3.388293e+04       1405.478598  ...      12.174693       0.484275\n",
              "min    6.100000e+01         72.000000  ...    1885.000000       0.000000\n",
              "25%    3.190000e+02        376.000000  ...    1969.000000       1.000000\n",
              "50%    5.190000e+02        497.000000  ...    1980.000000       1.000000\n",
              "75%    8.720000e+02       3172.000000  ...    1988.000000       1.000000\n",
              "max    1.596226e+07       3664.000000  ...    2002.000000       2.000000\n",
              "\n",
              "[8 rows x 10 columns]"
            ]
          },
          "metadata": {
            "tags": []
          },
          "execution_count": 5
        }
      ]
    },
    {
      "cell_type": "markdown",
      "metadata": {
        "id": "oM2xSUOqQAwK"
      },
      "source": [
        "### 1. Drop any trips where a trip lasted less than 1500 seconds. 1500 seconds is an arbitary choice to see how long it would take a rider to realize a bike isn’t working properly and coming back to the station to return it and take a new on."
      ]
    },
    {
      "cell_type": "code",
      "metadata": {
        "id": "t2eiuTnQP9Yn",
        "outputId": "1611ac5b-dd95-4964-f4a7-42c11739e64c",
        "colab": {
          "base_uri": "https://localhost:8080/",
          "height": 479
        }
      },
      "source": [
        "df = df.dropna()\n",
        "\n",
        "df = df[df['tripduration']>1500]\n",
        "df = df.reset_index()\n",
        "df = df.drop(['index'],axis=1)\n",
        "print(df.shape)\n",
        "df.head()"
      ],
      "execution_count": 6,
      "outputs": [
        {
          "output_type": "stream",
          "text": [
            "(71509, 15)\n"
          ],
          "name": "stdout"
        },
        {
          "output_type": "execute_result",
          "data": {
            "text/html": [
              "<div>\n",
              "<style scoped>\n",
              "    .dataframe tbody tr th:only-of-type {\n",
              "        vertical-align: middle;\n",
              "    }\n",
              "\n",
              "    .dataframe tbody tr th {\n",
              "        vertical-align: top;\n",
              "    }\n",
              "\n",
              "    .dataframe thead th {\n",
              "        text-align: right;\n",
              "    }\n",
              "</style>\n",
              "<table border=\"1\" class=\"dataframe\">\n",
              "  <thead>\n",
              "    <tr style=\"text-align: right;\">\n",
              "      <th></th>\n",
              "      <th>tripduration</th>\n",
              "      <th>starttime</th>\n",
              "      <th>stoptime</th>\n",
              "      <th>start station id</th>\n",
              "      <th>start station name</th>\n",
              "      <th>start station latitude</th>\n",
              "      <th>start station longitude</th>\n",
              "      <th>end station id</th>\n",
              "      <th>end station name</th>\n",
              "      <th>end station latitude</th>\n",
              "      <th>end station longitude</th>\n",
              "      <th>bikeid</th>\n",
              "      <th>usertype</th>\n",
              "      <th>birth year</th>\n",
              "      <th>gender</th>\n",
              "    </tr>\n",
              "  </thead>\n",
              "  <tbody>\n",
              "    <tr>\n",
              "      <th>0</th>\n",
              "      <td>2359</td>\n",
              "      <td>2018-02-01 10:36:18.8480</td>\n",
              "      <td>2018-02-01 11:15:38.0000</td>\n",
              "      <td>72</td>\n",
              "      <td>W 52 St &amp; 11 Ave</td>\n",
              "      <td>40.767272</td>\n",
              "      <td>-73.993929</td>\n",
              "      <td>3435</td>\n",
              "      <td>Grand St &amp; Elizabeth St</td>\n",
              "      <td>40.718822</td>\n",
              "      <td>-73.995960</td>\n",
              "      <td>32217</td>\n",
              "      <td>Subscriber</td>\n",
              "      <td>1959</td>\n",
              "      <td>2</td>\n",
              "    </tr>\n",
              "    <tr>\n",
              "      <th>1</th>\n",
              "      <td>1574</td>\n",
              "      <td>2018-02-02 15:31:55.8670</td>\n",
              "      <td>2018-02-02 15:58:10.1810</td>\n",
              "      <td>72</td>\n",
              "      <td>W 52 St &amp; 11 Ave</td>\n",
              "      <td>40.767272</td>\n",
              "      <td>-73.993929</td>\n",
              "      <td>490</td>\n",
              "      <td>8 Ave &amp; W 33 St</td>\n",
              "      <td>40.751551</td>\n",
              "      <td>-73.993934</td>\n",
              "      <td>29907</td>\n",
              "      <td>Subscriber</td>\n",
              "      <td>1954</td>\n",
              "      <td>1</td>\n",
              "    </tr>\n",
              "    <tr>\n",
              "      <th>2</th>\n",
              "      <td>2283</td>\n",
              "      <td>2018-02-03 10:12:06.6800</td>\n",
              "      <td>2018-02-03 10:50:09.9680</td>\n",
              "      <td>72</td>\n",
              "      <td>W 52 St &amp; 11 Ave</td>\n",
              "      <td>40.767272</td>\n",
              "      <td>-73.993929</td>\n",
              "      <td>3435</td>\n",
              "      <td>Grand St &amp; Elizabeth St</td>\n",
              "      <td>40.718822</td>\n",
              "      <td>-73.995960</td>\n",
              "      <td>16636</td>\n",
              "      <td>Subscriber</td>\n",
              "      <td>1966</td>\n",
              "      <td>2</td>\n",
              "    </tr>\n",
              "    <tr>\n",
              "      <th>3</th>\n",
              "      <td>1803</td>\n",
              "      <td>2018-02-03 16:21:32.3630</td>\n",
              "      <td>2018-02-03 16:51:36.3610</td>\n",
              "      <td>72</td>\n",
              "      <td>W 52 St &amp; 11 Ave</td>\n",
              "      <td>40.767272</td>\n",
              "      <td>-73.993929</td>\n",
              "      <td>309</td>\n",
              "      <td>Murray St &amp; West St</td>\n",
              "      <td>40.714979</td>\n",
              "      <td>-74.013012</td>\n",
              "      <td>31787</td>\n",
              "      <td>Subscriber</td>\n",
              "      <td>1957</td>\n",
              "      <td>1</td>\n",
              "    </tr>\n",
              "    <tr>\n",
              "      <th>4</th>\n",
              "      <td>1567</td>\n",
              "      <td>2018-02-03 17:25:55.6610</td>\n",
              "      <td>2018-02-03 17:52:03.3800</td>\n",
              "      <td>72</td>\n",
              "      <td>W 52 St &amp; 11 Ave</td>\n",
              "      <td>40.767272</td>\n",
              "      <td>-73.993929</td>\n",
              "      <td>236</td>\n",
              "      <td>St Marks Pl &amp; 2 Ave</td>\n",
              "      <td>40.728419</td>\n",
              "      <td>-73.987140</td>\n",
              "      <td>32055</td>\n",
              "      <td>Subscriber</td>\n",
              "      <td>1984</td>\n",
              "      <td>1</td>\n",
              "    </tr>\n",
              "  </tbody>\n",
              "</table>\n",
              "</div>"
            ],
            "text/plain": [
              "   tripduration                 starttime  ... birth year  gender\n",
              "0          2359  2018-02-01 10:36:18.8480  ...       1959       2\n",
              "1          1574  2018-02-02 15:31:55.8670  ...       1954       1\n",
              "2          2283  2018-02-03 10:12:06.6800  ...       1966       2\n",
              "3          1803  2018-02-03 16:21:32.3630  ...       1957       1\n",
              "4          1567  2018-02-03 17:25:55.6610  ...       1984       1\n",
              "\n",
              "[5 rows x 15 columns]"
            ]
          },
          "metadata": {
            "tags": []
          },
          "execution_count": 6
        }
      ]
    },
    {
      "cell_type": "markdown",
      "metadata": {
        "id": "vle-4WShQT1n"
      },
      "source": [
        "### 2. Calculating distance using start point and end point's latitude and longitude. "
      ]
    },
    {
      "cell_type": "code",
      "metadata": {
        "id": "YZLFf17AePpK"
      },
      "source": [
        "from geopy import distance"
      ],
      "execution_count": 7,
      "outputs": []
    },
    {
      "cell_type": "code",
      "metadata": {
        "id": "-2Nk1uZRQFH8"
      },
      "source": [
        "def geopydistance(df):\n",
        "  dist = []\n",
        "\n",
        "  for i in range(len(df)):\n",
        "    x1,y1 = df['start station latitude'][i],df['start station longitude'][i]\n",
        "    x2,y2 = df['end station latitude'][i],df['end station longitude'][i]\n",
        "\n",
        "    d = distance.geodesic((x1,y1),(x2,y2)).km\n",
        "\n",
        "    dist.append(d)\n",
        "  return d"
      ],
      "execution_count": 8,
      "outputs": []
    },
    {
      "cell_type": "code",
      "metadata": {
        "id": "EjZW_lxpQZSO"
      },
      "source": [
        "def partofday(x):\n",
        "\n",
        "  if(x<=6):\n",
        "    return 0\n",
        "  elif( x>6 and x<=12):\n",
        "    return 1\n",
        "  elif( x>12 and x<=18):\n",
        "    return 2\n",
        "  elif(x>18 and x<=24):\n",
        "    return 3\n",
        "\n",
        "def datedetails(df):\n",
        "\n",
        "  weekpart = []\n",
        "  daypart = []\n",
        "\n",
        "  for x in df['starttime']:\n",
        "    dt = datetime.strptime(x,'%Y-%m-%d %H:%M:%S.%f')\n",
        "\n",
        "    weekpart.append(dt.weekday())\n",
        "    daypart.append(partofday(dt.hour))\n",
        "\n",
        "  return weekpart,daypart"
      ],
      "execution_count": 9,
      "outputs": []
    },
    {
      "cell_type": "code",
      "metadata": {
        "id": "6usM9YcRQe7p",
        "outputId": "0bbd40ff-530b-4e07-9879-13dbccd21758",
        "colab": {
          "base_uri": "https://localhost:8080/"
        }
      },
      "source": [
        "df['distance'] = geopydistance(df)\n",
        "df['weekpart'],df['daypart'] = datedetails(df)\n",
        "df.shape "
      ],
      "execution_count": 10,
      "outputs": [
        {
          "output_type": "execute_result",
          "data": {
            "text/plain": [
              "(71509, 18)"
            ]
          },
          "metadata": {
            "tags": []
          },
          "execution_count": 10
        }
      ]
    },
    {
      "cell_type": "code",
      "metadata": {
        "id": "KmFmMAIoQjqD",
        "outputId": "e2730307-d9c2-48d5-b722-00a9995d4189",
        "colab": {
          "base_uri": "https://localhost:8080/",
          "height": 462
        }
      },
      "source": [
        "le = LabelEncoder()\n",
        "df['usertype'] = le.fit_transform(df['usertype'])\n",
        "df['age'] = df['birth year']-2018\n",
        "df['age'] = abs(df['age'])\n",
        "df.head()"
      ],
      "execution_count": 11,
      "outputs": [
        {
          "output_type": "execute_result",
          "data": {
            "text/html": [
              "<div>\n",
              "<style scoped>\n",
              "    .dataframe tbody tr th:only-of-type {\n",
              "        vertical-align: middle;\n",
              "    }\n",
              "\n",
              "    .dataframe tbody tr th {\n",
              "        vertical-align: top;\n",
              "    }\n",
              "\n",
              "    .dataframe thead th {\n",
              "        text-align: right;\n",
              "    }\n",
              "</style>\n",
              "<table border=\"1\" class=\"dataframe\">\n",
              "  <thead>\n",
              "    <tr style=\"text-align: right;\">\n",
              "      <th></th>\n",
              "      <th>tripduration</th>\n",
              "      <th>starttime</th>\n",
              "      <th>stoptime</th>\n",
              "      <th>start station id</th>\n",
              "      <th>start station name</th>\n",
              "      <th>start station latitude</th>\n",
              "      <th>start station longitude</th>\n",
              "      <th>end station id</th>\n",
              "      <th>end station name</th>\n",
              "      <th>end station latitude</th>\n",
              "      <th>end station longitude</th>\n",
              "      <th>bikeid</th>\n",
              "      <th>usertype</th>\n",
              "      <th>birth year</th>\n",
              "      <th>gender</th>\n",
              "      <th>distance</th>\n",
              "      <th>weekpart</th>\n",
              "      <th>daypart</th>\n",
              "      <th>age</th>\n",
              "    </tr>\n",
              "  </thead>\n",
              "  <tbody>\n",
              "    <tr>\n",
              "      <th>0</th>\n",
              "      <td>2359</td>\n",
              "      <td>2018-02-01 10:36:18.8480</td>\n",
              "      <td>2018-02-01 11:15:38.0000</td>\n",
              "      <td>72</td>\n",
              "      <td>W 52 St &amp; 11 Ave</td>\n",
              "      <td>40.767272</td>\n",
              "      <td>-73.993929</td>\n",
              "      <td>3435</td>\n",
              "      <td>Grand St &amp; Elizabeth St</td>\n",
              "      <td>40.718822</td>\n",
              "      <td>-73.995960</td>\n",
              "      <td>32217</td>\n",
              "      <td>1</td>\n",
              "      <td>1959</td>\n",
              "      <td>2</td>\n",
              "      <td>7.438101</td>\n",
              "      <td>3</td>\n",
              "      <td>1</td>\n",
              "      <td>59</td>\n",
              "    </tr>\n",
              "    <tr>\n",
              "      <th>1</th>\n",
              "      <td>1574</td>\n",
              "      <td>2018-02-02 15:31:55.8670</td>\n",
              "      <td>2018-02-02 15:58:10.1810</td>\n",
              "      <td>72</td>\n",
              "      <td>W 52 St &amp; 11 Ave</td>\n",
              "      <td>40.767272</td>\n",
              "      <td>-73.993929</td>\n",
              "      <td>490</td>\n",
              "      <td>8 Ave &amp; W 33 St</td>\n",
              "      <td>40.751551</td>\n",
              "      <td>-73.993934</td>\n",
              "      <td>29907</td>\n",
              "      <td>1</td>\n",
              "      <td>1954</td>\n",
              "      <td>1</td>\n",
              "      <td>7.438101</td>\n",
              "      <td>4</td>\n",
              "      <td>2</td>\n",
              "      <td>64</td>\n",
              "    </tr>\n",
              "    <tr>\n",
              "      <th>2</th>\n",
              "      <td>2283</td>\n",
              "      <td>2018-02-03 10:12:06.6800</td>\n",
              "      <td>2018-02-03 10:50:09.9680</td>\n",
              "      <td>72</td>\n",
              "      <td>W 52 St &amp; 11 Ave</td>\n",
              "      <td>40.767272</td>\n",
              "      <td>-73.993929</td>\n",
              "      <td>3435</td>\n",
              "      <td>Grand St &amp; Elizabeth St</td>\n",
              "      <td>40.718822</td>\n",
              "      <td>-73.995960</td>\n",
              "      <td>16636</td>\n",
              "      <td>1</td>\n",
              "      <td>1966</td>\n",
              "      <td>2</td>\n",
              "      <td>7.438101</td>\n",
              "      <td>5</td>\n",
              "      <td>1</td>\n",
              "      <td>52</td>\n",
              "    </tr>\n",
              "    <tr>\n",
              "      <th>3</th>\n",
              "      <td>1803</td>\n",
              "      <td>2018-02-03 16:21:32.3630</td>\n",
              "      <td>2018-02-03 16:51:36.3610</td>\n",
              "      <td>72</td>\n",
              "      <td>W 52 St &amp; 11 Ave</td>\n",
              "      <td>40.767272</td>\n",
              "      <td>-73.993929</td>\n",
              "      <td>309</td>\n",
              "      <td>Murray St &amp; West St</td>\n",
              "      <td>40.714979</td>\n",
              "      <td>-74.013012</td>\n",
              "      <td>31787</td>\n",
              "      <td>1</td>\n",
              "      <td>1957</td>\n",
              "      <td>1</td>\n",
              "      <td>7.438101</td>\n",
              "      <td>5</td>\n",
              "      <td>2</td>\n",
              "      <td>61</td>\n",
              "    </tr>\n",
              "    <tr>\n",
              "      <th>4</th>\n",
              "      <td>1567</td>\n",
              "      <td>2018-02-03 17:25:55.6610</td>\n",
              "      <td>2018-02-03 17:52:03.3800</td>\n",
              "      <td>72</td>\n",
              "      <td>W 52 St &amp; 11 Ave</td>\n",
              "      <td>40.767272</td>\n",
              "      <td>-73.993929</td>\n",
              "      <td>236</td>\n",
              "      <td>St Marks Pl &amp; 2 Ave</td>\n",
              "      <td>40.728419</td>\n",
              "      <td>-73.987140</td>\n",
              "      <td>32055</td>\n",
              "      <td>1</td>\n",
              "      <td>1984</td>\n",
              "      <td>1</td>\n",
              "      <td>7.438101</td>\n",
              "      <td>5</td>\n",
              "      <td>2</td>\n",
              "      <td>34</td>\n",
              "    </tr>\n",
              "  </tbody>\n",
              "</table>\n",
              "</div>"
            ],
            "text/plain": [
              "   tripduration                 starttime  ... daypart  age\n",
              "0          2359  2018-02-01 10:36:18.8480  ...       1   59\n",
              "1          1574  2018-02-02 15:31:55.8670  ...       2   64\n",
              "2          2283  2018-02-03 10:12:06.6800  ...       1   52\n",
              "3          1803  2018-02-03 16:21:32.3630  ...       2   61\n",
              "4          1567  2018-02-03 17:25:55.6610  ...       2   34\n",
              "\n",
              "[5 rows x 19 columns]"
            ]
          },
          "metadata": {
            "tags": []
          },
          "execution_count": 11
        }
      ]
    },
    {
      "cell_type": "markdown",
      "metadata": {
        "id": "JCoRm1rRQ_wL"
      },
      "source": [
        "## 3. Top 5 citibike start stations"
      ]
    },
    {
      "cell_type": "code",
      "metadata": {
        "id": "nchL13V9RAxv",
        "outputId": "2073cb36-b25f-4a18-fb19-ff4feb750a03",
        "colab": {
          "base_uri": "https://localhost:8080/",
          "height": 353
        }
      },
      "source": [
        "start_station_count = df['start station name'].value_counts()\n",
        "start_station_count = start_station_count[:5,]\n",
        "\n",
        "plt.figure(figsize=(10,5))\n",
        "plt.barh(start_station_count.index, start_station_count.values,alpha=0.8)\n",
        "\n",
        "plt.title('Top 5 citibike start stations and their occurence')\n",
        "plt.ylabel('Start station', fontsize=12)\n",
        "plt.xlabel('Number of Occurrences', fontsize=12)\n",
        "plt.show()"
      ],
      "execution_count": 12,
      "outputs": [
        {
          "output_type": "display_data",
          "data": {
            "image/png": "[encoded data removed]",
            "text/plain": [
              "<Figure size 720x360 with 1 Axes>"
            ]
          },
          "metadata": {
            "tags": [],
            "needs_background": "light"
          }
        }
      ]
    },
    {
      "cell_type": "code",
      "metadata": {
        "id": "9MWAbk5qRFtn",
        "outputId": "aa566492-5006-4910-b496-858254328eb8",
        "colab": {
          "base_uri": "https://localhost:8080/",
          "height": 319
        }
      },
      "source": [
        "fig = plt.figure()\n",
        "ax = fig.add_axes([0,0,1,1])\n",
        "ax.axis('equal')\n",
        "ax.pie(start_station_count.values, labels=start_station_count.index, autopct='%1.2f%%' )\n",
        "plt.show()"
      ],
      "execution_count": 13,
      "outputs": [
        {
          "output_type": "display_data",
          "data": {
            "image/png": "[encoded data removed]",
            "text/plain": [
              "<Figure size 432x288 with 1 Axes>"
            ]
          },
          "metadata": {
            "tags": []
          }
        }
      ]
    },
    {
      "cell_type": "markdown",
      "metadata": {
        "id": "f2VP0n76RDHi"
      },
      "source": [
        "##4. Top 5 citibike end stations"
      ]
    },
    {
      "cell_type": "code",
      "metadata": {
        "id": "KmkGXIGWRKI_",
        "outputId": "ec841bc4-6b3b-4e4a-b472-939a15487475",
        "colab": {
          "base_uri": "https://localhost:8080/",
          "height": 353
        }
      },
      "source": [
        "end_station_count = df['end station name'].value_counts()\n",
        "end_station_count = end_station_count[:5,]\n",
        "\n",
        "plt.figure(figsize=(10,5))\n",
        "plt.barh(end_station_count.index, end_station_count.values, alpha=0.8)\n",
        "\n",
        "plt.title('Top 5 citibike end stations and their occurence')\n",
        "plt.ylabel('End station', fontsize=12)\n",
        "plt.xlabel('Number of Occurrences', fontsize=12)\n",
        "plt.show()"
      ],
      "execution_count": 14,
      "outputs": [
        {
          "output_type": "display_data",
          "data": {
            "image/png": "[encoded data removed]",
            "text/plain": [
              "<Figure size 720x360 with 1 Axes>"
            ]
          },
          "metadata": {
            "tags": [],
            "needs_background": "light"
          }
        }
      ]
    },
    {
      "cell_type": "code",
      "metadata": {
        "id": "rYNchCk3RSbq",
        "outputId": "53e694fa-6110-47e1-cf5e-8909c07d0c15",
        "colab": {
          "base_uri": "https://localhost:8080/",
          "height": 319
        }
      },
      "source": [
        "fig = plt.figure()\n",
        "ax = fig.add_axes([0,0,1,1])\n",
        "ax.axis('equal')\n",
        "ax.pie(end_station_count.values, labels=end_station_count.index, autopct='%1.2f%%' )\n",
        "plt.show()"
      ],
      "execution_count": 15,
      "outputs": [
        {
          "output_type": "display_data",
          "data": {
            "image/png": "[encoded data removed]",
            "text/plain": [
              "<Figure size 432x288 with 1 Axes>"
            ]
          },
          "metadata": {
            "tags": []
          }
        }
      ]
    },
    {
      "cell_type": "markdown",
      "metadata": {
        "id": "bly5WUcNRXVH"
      },
      "source": [
        "##5. Visualizations"
      ]
    },
    {
      "cell_type": "code",
      "metadata": {
        "id": "RMiq7x4uRZgD",
        "outputId": "ff0242f5-30f9-4af9-b4a8-287732e4b381",
        "colab": {
          "base_uri": "https://localhost:8080/",
          "height": 1000
        }
      },
      "source": [
        "import plotly.graph_objs as go\n",
        "from plotly.offline import download_plotlyjs, init_notebook_mode, plot, iplot\n",
        "customer_type_df = pd.DataFrame(data=df['usertype'].value_counts())\n",
        "customer_type_df = customer_type_df.reset_index()\n",
        "customer_type_df.rename(columns={'usertype':'count', 'index': 'usertype'}, inplace=True)\n",
        "layout = go.Layout(title='User Type',)\n",
        "trace = go.Pie(labels=customer_type_df['usertype'].values, values=customer_type_df['count'].values)\n",
        "fig = go.Figure(data=[trace], layout=layout)\n",
        "iplot(fig)\n",
        "\n",
        "y = list(range(0, 110, 10))\n",
        "men_bins = []\n",
        "women_bins = []\n",
        "for i in range(0, len(y) - 1):\n",
        "    df_gender = pd.DataFrame(data=df[( df['age'] >  y[i] ) & (df['age'] < y[i+1]) ]['gender'].value_counts())\n",
        "    df_gender = df_gender.reset_index()\n",
        "    df_gender.rename(columns={'gender':'count', 'index':'gender'}, inplace=True)\n",
        "    count = df_gender[df_gender['gender'] == 1]['count']\n",
        "    men_bins.append(0 if len(count) == 0 else count.values[0])\n",
        "    count2 = df_gender[df_gender['gender'] == 2]['count']\n",
        "    women_bins.append(0 if len(count2) == 0 else -count2.values[0])\n",
        "    \n",
        "layout = go.Layout(yaxis=go.layout.YAxis(title='Age'),\n",
        "                  title=\"Gender\",\n",
        "                   barmode='overlay',\n",
        "                   bargap=0.1)\n",
        "\n",
        "data = [\n",
        "        go.Bar(y=y,\n",
        "               x=women_bins,\n",
        "               orientation='h',\n",
        "               name='Women',\n",
        "               text=-1 * women_bins,\n",
        "               hoverinfo='text',\n",
        "               marker=dict(color='seagreen')\n",
        "               ),go.Bar(y=y,\n",
        "               x=men_bins,\n",
        "               orientation='h',\n",
        "               name='Men',\n",
        "               hoverinfo='x',\n",
        "               marker=dict(color='powderblue')\n",
        "               )]\n",
        "iplot(dict(data=data, layout=layout))\n",
        "\n",
        "# in pie chart\n",
        "# 1= subscriber\n",
        "# 0= customer"
      ],
      "execution_count": 16,
      "outputs": [
        {
          "output_type": "display_data",
          "data": {
            "text/html": [
              "<html>\n",
              "<head><meta charset=\"utf-8\" /></head>\n",
              "<body>\n",
              "    <div>\n",
              "            <script src=\"https://cdnjs.cloudflare.com/ajax/libs/mathjax/2.7.5/MathJax.js?config=TeX-AMS-MML_SVG\"></script><script type=\"text/javascript\">if (window.MathJax) {MathJax.Hub.Config({SVG: {font: \"STIX-Web\"}});}</script>\n",
              "                <script type=\"text/javascript\">window.PlotlyConfig = {MathJaxConfig: 'local'};</script>\n",
              "        <script src=\"https://cdn.plot.ly/plotly-latest.min.js\"></script>    \n",
              "            <div id=\"5cdaf4d9-ee71-4345-805d-8bfd65034f31\" class=\"plotly-graph-div\" style=\"height:525px; width:100%;\"></div>\n",
              "            <script type=\"text/javascript\">\n",
              "                \n",
              "                    window.PLOTLYENV=window.PLOTLYENV || {};\n",
              "                    \n",
              "                if (document.getElementById(\"5cdaf4d9-ee71-4345-805d-8bfd65034f31\")) {\n",
              "                    Plotly.newPlot(\n",
              "                        '5cdaf4d9-ee71-4345-805d-8bfd65034f31',\n",
              "                        [{\"labels\": [1, 0], \"type\": \"pie\", \"values\": [59395, 12114]}],\n",
              "                        {\"template\": {\"data\": {\"bar\": [{\"error_x\": {\"color\": \"#2a3f5f\"}, \"error_y\": {\"color\": \"#2a3f5f\"}, \"marker\": {\"line\": {\"color\": \"#E5ECF6\", \"width\": 0.5}}, \"type\": \"bar\"}], \"barpolar\": [{\"marker\": {\"line\": {\"color\": \"#E5ECF6\", \"width\": 0.5}}, \"type\": \"barpolar\"}], \"carpet\": [{\"aaxis\": {\"endlinecolor\": \"#2a3f5f\", \"gridcolor\": \"white\", \"linecolor\": \"white\", \"minorgridcolor\": \"white\", \"startlinecolor\": \"#2a3f5f\"}, \"baxis\": {\"endlinecolor\": \"#2a3f5f\", \"gridcolor\": \"white\", \"linecolor\": \"white\", \"minorgridcolor\": \"white\", \"startlinecolor\": \"#2a3f5f\"}, \"type\": \"carpet\"}], \"choropleth\": [{\"colorbar\": {\"outlinewidth\": 0, \"ticks\": \"\"}, \"type\": \"choropleth\"}], \"contour\": [{\"colorbar\": {\"outlinewidth\": 0, \"ticks\": \"\"}, \"colorscale\": [[0.0, \"#0d0887\"], [0.1111111111111111, \"#46039f\"], [0.2222222222222222, \"#7201a8\"], [0.3333333333333333, \"#9c179e\"], [0.4444444444444444, \"#bd3786\"], [0.5555555555555556, \"#d8576b\"], [0.6666666666666666, \"#ed7953\"], [0.7777777777777778, \"#fb9f3a\"], [0.8888888888888888, \"#fdca26\"], [1.0, \"#f0f921\"]], \"type\": \"contour\"}], \"contourcarpet\": [{\"colorbar\": {\"outlinewidth\": 0, \"ticks\": \"\"}, \"type\": \"contourcarpet\"}], \"heatmap\": [{\"colorbar\": {\"outlinewidth\": 0, \"ticks\": \"\"}, \"colorscale\": [[0.0, \"#0d0887\"], [0.1111111111111111, \"#46039f\"], [0.2222222222222222, \"#7201a8\"], [0.3333333333333333, \"#9c179e\"], [0.4444444444444444, \"#bd3786\"], [0.5555555555555556, \"#d8576b\"], [0.6666666666666666, \"#ed7953\"], [0.7777777777777778, \"#fb9f3a\"], [0.8888888888888888, \"#fdca26\"], [1.0, \"#f0f921\"]], \"type\": \"heatmap\"}], \"heatmapgl\": [{\"colorbar\": {\"outlinewidth\": 0, \"ticks\": \"\"}, \"colorscale\": [[0.0, \"#0d0887\"], [0.1111111111111111, \"#46039f\"], [0.2222222222222222, \"#7201a8\"], [0.3333333333333333, \"#9c179e\"], [0.4444444444444444, \"#bd3786\"], [0.5555555555555556, \"#d8576b\"], [0.6666666666666666, \"#ed7953\"], [0.7777777777777778, \"#fb9f3a\"], [0.8888888888888888, \"#fdca26\"], [1.0, \"#f0f921\"]], \"type\": \"heatmapgl\"}], \"histogram\": [{\"marker\": {\"colorbar\": {\"outlinewidth\": 0, \"ticks\": \"\"}}, \"type\": \"histogram\"}], \"histogram2d\": [{\"colorbar\": {\"outlinewidth\": 0, \"ticks\": \"\"}, \"colorscale\": [[0.0, \"#0d0887\"], [0.1111111111111111, \"#46039f\"], [0.2222222222222222, \"#7201a8\"], [0.3333333333333333, \"#9c179e\"], [0.4444444444444444, \"#bd3786\"], [0.5555555555555556, \"#d8576b\"], [0.6666666666666666, \"#ed7953\"], [0.7777777777777778, \"#fb9f3a\"], [0.8888888888888888, \"#fdca26\"], [1.0, \"#f0f921\"]], \"type\": \"histogram2d\"}], \"histogram2dcontour\": [{\"colorbar\": {\"outlinewidth\": 0, \"ticks\": \"\"}, \"colorscale\": [[0.0, \"#0d0887\"], [0.1111111111111111, \"#46039f\"], [0.2222222222222222, \"#7201a8\"], [0.3333333333333333, \"#9c179e\"], [0.4444444444444444, \"#bd3786\"], [0.5555555555555556, \"#d8576b\"], [0.6666666666666666, \"#ed7953\"], [0.7777777777777778, \"#fb9f3a\"], [0.8888888888888888, \"#fdca26\"], [1.0, \"#f0f921\"]], \"type\": \"histogram2dcontour\"}], \"mesh3d\": [{\"colorbar\": {\"outlinewidth\": 0, \"ticks\": \"\"}, \"type\": \"mesh3d\"}], \"parcoords\": [{\"line\": {\"colorbar\": {\"outlinewidth\": 0, \"ticks\": \"\"}}, \"type\": \"parcoords\"}], \"pie\": [{\"automargin\": true, \"type\": \"pie\"}], \"scatter\": [{\"marker\": {\"colorbar\": {\"outlinewidth\": 0, \"ticks\": \"\"}}, \"type\": \"scatter\"}], \"scatter3d\": [{\"line\": {\"colorbar\": {\"outlinewidth\": 0, \"ticks\": \"\"}}, \"marker\": {\"colorbar\": {\"outlinewidth\": 0, \"ticks\": \"\"}}, \"type\": \"scatter3d\"}], \"scattercarpet\": [{\"marker\": {\"colorbar\": {\"outlinewidth\": 0, \"ticks\": \"\"}}, \"type\": \"scattercarpet\"}], \"scattergeo\": [{\"marker\": {\"colorbar\": {\"outlinewidth\": 0, \"ticks\": \"\"}}, \"type\": \"scattergeo\"}], \"scattergl\": [{\"marker\": {\"colorbar\": {\"outlinewidth\": 0, \"ticks\": \"\"}}, \"type\": \"scattergl\"}], \"scattermapbox\": [{\"marker\": {\"colorbar\": {\"outlinewidth\": 0, \"ticks\": \"\"}}, \"type\": \"scattermapbox\"}], \"scatterpolar\": [{\"marker\": {\"colorbar\": {\"outlinewidth\": 0, \"ticks\": \"\"}}, \"type\": \"scatterpolar\"}], \"scatterpolargl\": [{\"marker\": {\"colorbar\": {\"outlinewidth\": 0, \"ticks\": \"\"}}, \"type\": \"scatterpolargl\"}], \"scatterternary\": [{\"marker\": {\"colorbar\": {\"outlinewidth\": 0, \"ticks\": \"\"}}, \"type\": \"scatterternary\"}], \"surface\": [{\"colorbar\": {\"outlinewidth\": 0, \"ticks\": \"\"}, \"colorscale\": [[0.0, \"#0d0887\"], [0.1111111111111111, \"#46039f\"], [0.2222222222222222, \"#7201a8\"], [0.3333333333333333, \"#9c179e\"], [0.4444444444444444, \"#bd3786\"], [0.5555555555555556, \"#d8576b\"], [0.6666666666666666, \"#ed7953\"], [0.7777777777777778, \"#fb9f3a\"], [0.8888888888888888, \"#fdca26\"], [1.0, \"#f0f921\"]], \"type\": \"surface\"}], \"table\": [{\"cells\": {\"fill\": {\"color\": \"#EBF0F8\"}, \"line\": {\"color\": \"white\"}}, \"header\": {\"fill\": {\"color\": \"#C8D4E3\"}, \"line\": {\"color\": \"white\"}}, \"type\": \"table\"}]}, \"layout\": {\"annotationdefaults\": {\"arrowcolor\": \"#2a3f5f\", \"arrowhead\": 0, \"arrowwidth\": 1}, \"coloraxis\": {\"colorbar\": {\"outlinewidth\": 0, \"ticks\": \"\"}}, \"colorscale\": {\"diverging\": [[0, \"#8e0152\"], [0.1, \"#c51b7d\"], [0.2, \"#de77ae\"], [0.3, \"#f1b6da\"], [0.4, \"#fde0ef\"], [0.5, \"#f7f7f7\"], [0.6, \"#e6f5d0\"], [0.7, \"#b8e186\"], [0.8, \"#7fbc41\"], [0.9, \"#4d9221\"], [1, \"#276419\"]], \"sequential\": [[0.0, \"#0d0887\"], [0.1111111111111111, \"#46039f\"], [0.2222222222222222, \"#7201a8\"], [0.3333333333333333, \"#9c179e\"], [0.4444444444444444, \"#bd3786\"], [0.5555555555555556, \"#d8576b\"], [0.6666666666666666, \"#ed7953\"], [0.7777777777777778, \"#fb9f3a\"], [0.8888888888888888, \"#fdca26\"], [1.0, \"#f0f921\"]], \"sequentialminus\": [[0.0, \"#0d0887\"], [0.1111111111111111, \"#46039f\"], [0.2222222222222222, \"#7201a8\"], [0.3333333333333333, \"#9c179e\"], [0.4444444444444444, \"#bd3786\"], [0.5555555555555556, \"#d8576b\"], [0.6666666666666666, \"#ed7953\"], [0.7777777777777778, \"#fb9f3a\"], [0.8888888888888888, \"#fdca26\"], [1.0, \"#f0f921\"]]}, \"colorway\": [\"#636efa\", \"#EF553B\", \"#00cc96\", \"#ab63fa\", \"#FFA15A\", \"#19d3f3\", \"#FF6692\", \"#B6E880\", \"#FF97FF\", \"#FECB52\"], \"font\": {\"color\": \"#2a3f5f\"}, \"geo\": {\"bgcolor\": \"white\", \"lakecolor\": \"white\", \"landcolor\": \"#E5ECF6\", \"showlakes\": true, \"showland\": true, \"subunitcolor\": \"white\"}, \"hoverlabel\": {\"align\": \"left\"}, \"hovermode\": \"closest\", \"mapbox\": {\"style\": \"light\"}, \"paper_bgcolor\": \"white\", \"plot_bgcolor\": \"#E5ECF6\", \"polar\": {\"angularaxis\": {\"gridcolor\": \"white\", \"linecolor\": \"white\", \"ticks\": \"\"}, \"bgcolor\": \"#E5ECF6\", \"radialaxis\": {\"gridcolor\": \"white\", \"linecolor\": \"white\", \"ticks\": \"\"}}, \"scene\": {\"xaxis\": {\"backgroundcolor\": \"#E5ECF6\", \"gridcolor\": \"white\", \"gridwidth\": 2, \"linecolor\": \"white\", \"showbackground\": true, \"ticks\": \"\", \"zerolinecolor\": \"white\"}, \"yaxis\": {\"backgroundcolor\": \"#E5ECF6\", \"gridcolor\": \"white\", \"gridwidth\": 2, \"linecolor\": \"white\", \"showbackground\": true, \"ticks\": \"\", \"zerolinecolor\": \"white\"}, \"zaxis\": {\"backgroundcolor\": \"#E5ECF6\", \"gridcolor\": \"white\", \"gridwidth\": 2, \"linecolor\": \"white\", \"showbackground\": true, \"ticks\": \"\", \"zerolinecolor\": \"white\"}}, \"shapedefaults\": {\"line\": {\"color\": \"#2a3f5f\"}}, \"ternary\": {\"aaxis\": {\"gridcolor\": \"white\", \"linecolor\": \"white\", \"ticks\": \"\"}, \"baxis\": {\"gridcolor\": \"white\", \"linecolor\": \"white\", \"ticks\": \"\"}, \"bgcolor\": \"#E5ECF6\", \"caxis\": {\"gridcolor\": \"white\", \"linecolor\": \"white\", \"ticks\": \"\"}}, \"title\": {\"x\": 0.05}, \"xaxis\": {\"automargin\": true, \"gridcolor\": \"white\", \"linecolor\": \"white\", \"ticks\": \"\", \"title\": {\"standoff\": 15}, \"zerolinecolor\": \"white\", \"zerolinewidth\": 2}, \"yaxis\": {\"automargin\": true, \"gridcolor\": \"white\", \"linecolor\": \"white\", \"ticks\": \"\", \"title\": {\"standoff\": 15}, \"zerolinecolor\": \"white\", \"zerolinewidth\": 2}}}, \"title\": {\"text\": \"User Type\"}},\n",
              "                        {\"responsive\": true}\n",
              "                    ).then(function(){\n",
              "                            \n",
              "var gd = document.getElementById('5cdaf4d9-ee71-4345-805d-8bfd65034f31');\n",
              "var x = new MutationObserver(function (mutations, observer) {{\n",
              "        var display = window.getComputedStyle(gd).display;\n",
              "        if (!display || display === 'none') {{\n",
              "            console.log([gd, 'removed!']);\n",
              "            Plotly.purge(gd);\n",
              "            observer.disconnect();\n",
              "        }}\n",
              "}});\n",
              "\n",
              "// Listen for the removal of the full notebook cells\n",
              "var notebookContainer = gd.closest('#notebook-container');\n",
              "if (notebookContainer) {{\n",
              "    x.observe(notebookContainer, {childList: true});\n",
              "}}\n",
              "\n",
              "// Listen for the clearing of the current output cell\n",
              "var outputEl = gd.closest('.output');\n",
              "if (outputEl) {{\n",
              "    x.observe(outputEl, {childList: true});\n",
              "}}\n",
              "\n",
              "                        })\n",
              "                };\n",
              "                \n",
              "            </script>\n",
              "        </div>\n",
              "</body>\n",
              "</html>"
            ]
          },
          "metadata": {
            "tags": []
          }
        },
        {
          "output_type": "display_data",
          "data": {
            "text/html": [
              "<html>\n",
              "<head><meta charset=\"utf-8\" /></head>\n",
              "<body>\n",
              "    <div>\n",
              "            <script src=\"https://cdnjs.cloudflare.com/ajax/libs/mathjax/2.7.5/MathJax.js?config=TeX-AMS-MML_SVG\"></script><script type=\"text/javascript\">if (window.MathJax) {MathJax.Hub.Config({SVG: {font: \"STIX-Web\"}});}</script>\n",
              "                <script type=\"text/javascript\">window.PlotlyConfig = {MathJaxConfig: 'local'};</script>\n",
              "        <script src=\"https://cdn.plot.ly/plotly-latest.min.js\"></script>    \n",
              "            <div id=\"4734ec35-f89b-4418-86a9-dbc57b57aceb\" class=\"plotly-graph-div\" style=\"height:525px; width:100%;\"></div>\n",
              "            <script type=\"text/javascript\">\n",
              "                \n",
              "                    window.PLOTLYENV=window.PLOTLYENV || {};\n",
              "                    \n",
              "                if (document.getElementById(\"4734ec35-f89b-4418-86a9-dbc57b57aceb\")) {\n",
              "                    Plotly.newPlot(\n",
              "                        '4734ec35-f89b-4418-86a9-dbc57b57aceb',\n",
              "                        [{\"hoverinfo\": \"text\", \"marker\": {\"color\": \"seagreen\"}, \"name\": \"Women\", \"orientation\": \"h\", \"text\": [], \"type\": \"bar\", \"x\": [0, -105, -4026, -4231, -2915, -2423, -931, -112, -11, -5], \"y\": [0, 10, 20, 30, 40, 50, 60, 70, 80, 90, 100]}, {\"hoverinfo\": \"x\", \"marker\": {\"color\": \"powderblue\"}, \"name\": \"Men\", \"orientation\": \"h\", \"type\": \"bar\", \"x\": [0, 252, 8097, 12272, 9473, 6296, 2828, 437, 13, 22], \"y\": [0, 10, 20, 30, 40, 50, 60, 70, 80, 90, 100]}],\n",
              "                        {\"bargap\": 0.1, \"barmode\": \"overlay\", \"template\": {\"data\": {\"bar\": [{\"error_x\": {\"color\": \"#2a3f5f\"}, \"error_y\": {\"color\": \"#2a3f5f\"}, \"marker\": {\"line\": {\"color\": \"#E5ECF6\", \"width\": 0.5}}, \"type\": \"bar\"}], \"barpolar\": [{\"marker\": {\"line\": {\"color\": \"#E5ECF6\", \"width\": 0.5}}, \"type\": \"barpolar\"}], \"carpet\": [{\"aaxis\": {\"endlinecolor\": \"#2a3f5f\", \"gridcolor\": \"white\", \"linecolor\": \"white\", \"minorgridcolor\": \"white\", \"startlinecolor\": \"#2a3f5f\"}, \"baxis\": {\"endlinecolor\": \"#2a3f5f\", \"gridcolor\": \"white\", \"linecolor\": \"white\", \"minorgridcolor\": \"white\", \"startlinecolor\": \"#2a3f5f\"}, \"type\": \"carpet\"}], \"choropleth\": [{\"colorbar\": {\"outlinewidth\": 0, \"ticks\": \"\"}, \"type\": \"choropleth\"}], \"contour\": [{\"colorbar\": {\"outlinewidth\": 0, \"ticks\": \"\"}, \"colorscale\": [[0.0, \"#0d0887\"], [0.1111111111111111, \"#46039f\"], [0.2222222222222222, \"#7201a8\"], [0.3333333333333333, \"#9c179e\"], [0.4444444444444444, \"#bd3786\"], [0.5555555555555556, \"#d8576b\"], [0.6666666666666666, \"#ed7953\"], [0.7777777777777778, \"#fb9f3a\"], [0.8888888888888888, \"#fdca26\"], [1.0, \"#f0f921\"]], \"type\": \"contour\"}], \"contourcarpet\": [{\"colorbar\": {\"outlinewidth\": 0, \"ticks\": \"\"}, \"type\": \"contourcarpet\"}], \"heatmap\": [{\"colorbar\": {\"outlinewidth\": 0, \"ticks\": \"\"}, \"colorscale\": [[0.0, \"#0d0887\"], [0.1111111111111111, \"#46039f\"], [0.2222222222222222, \"#7201a8\"], [0.3333333333333333, \"#9c179e\"], [0.4444444444444444, \"#bd3786\"], [0.5555555555555556, \"#d8576b\"], [0.6666666666666666, \"#ed7953\"], [0.7777777777777778, \"#fb9f3a\"], [0.8888888888888888, \"#fdca26\"], [1.0, \"#f0f921\"]], \"type\": \"heatmap\"}], \"heatmapgl\": [{\"colorbar\": {\"outlinewidth\": 0, \"ticks\": \"\"}, \"colorscale\": [[0.0, \"#0d0887\"], [0.1111111111111111, \"#46039f\"], [0.2222222222222222, \"#7201a8\"], [0.3333333333333333, \"#9c179e\"], [0.4444444444444444, \"#bd3786\"], [0.5555555555555556, \"#d8576b\"], [0.6666666666666666, \"#ed7953\"], [0.7777777777777778, \"#fb9f3a\"], [0.8888888888888888, \"#fdca26\"], [1.0, \"#f0f921\"]], \"type\": \"heatmapgl\"}], \"histogram\": [{\"marker\": {\"colorbar\": {\"outlinewidth\": 0, \"ticks\": \"\"}}, \"type\": \"histogram\"}], \"histogram2d\": [{\"colorbar\": {\"outlinewidth\": 0, \"ticks\": \"\"}, \"colorscale\": [[0.0, \"#0d0887\"], [0.1111111111111111, \"#46039f\"], [0.2222222222222222, \"#7201a8\"], [0.3333333333333333, \"#9c179e\"], [0.4444444444444444, \"#bd3786\"], [0.5555555555555556, \"#d8576b\"], [0.6666666666666666, \"#ed7953\"], [0.7777777777777778, \"#fb9f3a\"], [0.8888888888888888, \"#fdca26\"], [1.0, \"#f0f921\"]], \"type\": \"histogram2d\"}], \"histogram2dcontour\": [{\"colorbar\": {\"outlinewidth\": 0, \"ticks\": \"\"}, \"colorscale\": [[0.0, \"#0d0887\"], [0.1111111111111111, \"#46039f\"], [0.2222222222222222, \"#7201a8\"], [0.3333333333333333, \"#9c179e\"], [0.4444444444444444, \"#bd3786\"], [0.5555555555555556, \"#d8576b\"], [0.6666666666666666, \"#ed7953\"], [0.7777777777777778, \"#fb9f3a\"], [0.8888888888888888, \"#fdca26\"], [1.0, \"#f0f921\"]], \"type\": \"histogram2dcontour\"}], \"mesh3d\": [{\"colorbar\": {\"outlinewidth\": 0, \"ticks\": \"\"}, \"type\": \"mesh3d\"}], \"parcoords\": [{\"line\": {\"colorbar\": {\"outlinewidth\": 0, \"ticks\": \"\"}}, \"type\": \"parcoords\"}], \"pie\": [{\"automargin\": true, \"type\": \"pie\"}], \"scatter\": [{\"marker\": {\"colorbar\": {\"outlinewidth\": 0, \"ticks\": \"\"}}, \"type\": \"scatter\"}], \"scatter3d\": [{\"line\": {\"colorbar\": {\"outlinewidth\": 0, \"ticks\": \"\"}}, \"marker\": {\"colorbar\": {\"outlinewidth\": 0, \"ticks\": \"\"}}, \"type\": \"scatter3d\"}], \"scattercarpet\": [{\"marker\": {\"colorbar\": {\"outlinewidth\": 0, \"ticks\": \"\"}}, \"type\": \"scattercarpet\"}], \"scattergeo\": [{\"marker\": {\"colorbar\": {\"outlinewidth\": 0, \"ticks\": \"\"}}, \"type\": \"scattergeo\"}], \"scattergl\": [{\"marker\": {\"colorbar\": {\"outlinewidth\": 0, \"ticks\": \"\"}}, \"type\": \"scattergl\"}], \"scattermapbox\": [{\"marker\": {\"colorbar\": {\"outlinewidth\": 0, \"ticks\": \"\"}}, \"type\": \"scattermapbox\"}], \"scatterpolar\": [{\"marker\": {\"colorbar\": {\"outlinewidth\": 0, \"ticks\": \"\"}}, \"type\": \"scatterpolar\"}], \"scatterpolargl\": [{\"marker\": {\"colorbar\": {\"outlinewidth\": 0, \"ticks\": \"\"}}, \"type\": \"scatterpolargl\"}], \"scatterternary\": [{\"marker\": {\"colorbar\": {\"outlinewidth\": 0, \"ticks\": \"\"}}, \"type\": \"scatterternary\"}], \"surface\": [{\"colorbar\": {\"outlinewidth\": 0, \"ticks\": \"\"}, \"colorscale\": [[0.0, \"#0d0887\"], [0.1111111111111111, \"#46039f\"], [0.2222222222222222, \"#7201a8\"], [0.3333333333333333, \"#9c179e\"], [0.4444444444444444, \"#bd3786\"], [0.5555555555555556, \"#d8576b\"], [0.6666666666666666, \"#ed7953\"], [0.7777777777777778, \"#fb9f3a\"], [0.8888888888888888, \"#fdca26\"], [1.0, \"#f0f921\"]], \"type\": \"surface\"}], \"table\": [{\"cells\": {\"fill\": {\"color\": \"#EBF0F8\"}, \"line\": {\"color\": \"white\"}}, \"header\": {\"fill\": {\"color\": \"#C8D4E3\"}, \"line\": {\"color\": \"white\"}}, \"type\": \"table\"}]}, \"layout\": {\"annotationdefaults\": {\"arrowcolor\": \"#2a3f5f\", \"arrowhead\": 0, \"arrowwidth\": 1}, \"coloraxis\": {\"colorbar\": {\"outlinewidth\": 0, \"ticks\": \"\"}}, \"colorscale\": {\"diverging\": [[0, \"#8e0152\"], [0.1, \"#c51b7d\"], [0.2, \"#de77ae\"], [0.3, \"#f1b6da\"], [0.4, \"#fde0ef\"], [0.5, \"#f7f7f7\"], [0.6, \"#e6f5d0\"], [0.7, \"#b8e186\"], [0.8, \"#7fbc41\"], [0.9, \"#4d9221\"], [1, \"#276419\"]], \"sequential\": [[0.0, \"#0d0887\"], [0.1111111111111111, \"#46039f\"], [0.2222222222222222, \"#7201a8\"], [0.3333333333333333, \"#9c179e\"], [0.4444444444444444, \"#bd3786\"], [0.5555555555555556, \"#d8576b\"], [0.6666666666666666, \"#ed7953\"], [0.7777777777777778, \"#fb9f3a\"], [0.8888888888888888, \"#fdca26\"], [1.0, \"#f0f921\"]], \"sequentialminus\": [[0.0, \"#0d0887\"], [0.1111111111111111, \"#46039f\"], [0.2222222222222222, \"#7201a8\"], [0.3333333333333333, \"#9c179e\"], [0.4444444444444444, \"#bd3786\"], [0.5555555555555556, \"#d8576b\"], [0.6666666666666666, \"#ed7953\"], [0.7777777777777778, \"#fb9f3a\"], [0.8888888888888888, \"#fdca26\"], [1.0, \"#f0f921\"]]}, \"colorway\": [\"#636efa\", \"#EF553B\", \"#00cc96\", \"#ab63fa\", \"#FFA15A\", \"#19d3f3\", \"#FF6692\", \"#B6E880\", \"#FF97FF\", \"#FECB52\"], \"font\": {\"color\": \"#2a3f5f\"}, \"geo\": {\"bgcolor\": \"white\", \"lakecolor\": \"white\", \"landcolor\": \"#E5ECF6\", \"showlakes\": true, \"showland\": true, \"subunitcolor\": \"white\"}, \"hoverlabel\": {\"align\": \"left\"}, \"hovermode\": \"closest\", \"mapbox\": {\"style\": \"light\"}, \"paper_bgcolor\": \"white\", \"plot_bgcolor\": \"#E5ECF6\", \"polar\": {\"angularaxis\": {\"gridcolor\": \"white\", \"linecolor\": \"white\", \"ticks\": \"\"}, \"bgcolor\": \"#E5ECF6\", \"radialaxis\": {\"gridcolor\": \"white\", \"linecolor\": \"white\", \"ticks\": \"\"}}, \"scene\": {\"xaxis\": {\"backgroundcolor\": \"#E5ECF6\", \"gridcolor\": \"white\", \"gridwidth\": 2, \"linecolor\": \"white\", \"showbackground\": true, \"ticks\": \"\", \"zerolinecolor\": \"white\"}, \"yaxis\": {\"backgroundcolor\": \"#E5ECF6\", \"gridcolor\": \"white\", \"gridwidth\": 2, \"linecolor\": \"white\", \"showbackground\": true, \"ticks\": \"\", \"zerolinecolor\": \"white\"}, \"zaxis\": {\"backgroundcolor\": \"#E5ECF6\", \"gridcolor\": \"white\", \"gridwidth\": 2, \"linecolor\": \"white\", \"showbackground\": true, \"ticks\": \"\", \"zerolinecolor\": \"white\"}}, \"shapedefaults\": {\"line\": {\"color\": \"#2a3f5f\"}}, \"ternary\": {\"aaxis\": {\"gridcolor\": \"white\", \"linecolor\": \"white\", \"ticks\": \"\"}, \"baxis\": {\"gridcolor\": \"white\", \"linecolor\": \"white\", \"ticks\": \"\"}, \"bgcolor\": \"#E5ECF6\", \"caxis\": {\"gridcolor\": \"white\", \"linecolor\": \"white\", \"ticks\": \"\"}}, \"title\": {\"x\": 0.05}, \"xaxis\": {\"automargin\": true, \"gridcolor\": \"white\", \"linecolor\": \"white\", \"ticks\": \"\", \"title\": {\"standoff\": 15}, \"zerolinecolor\": \"white\", \"zerolinewidth\": 2}, \"yaxis\": {\"automargin\": true, \"gridcolor\": \"white\", \"linecolor\": \"white\", \"ticks\": \"\", \"title\": {\"standoff\": 15}, \"zerolinecolor\": \"white\", \"zerolinewidth\": 2}}}, \"title\": {\"text\": \"Gender\"}, \"yaxis\": {\"title\": {\"text\": \"Age\"}}},\n",
              "                        {\"responsive\": true}\n",
              "                    ).then(function(){\n",
              "                            \n",
              "var gd = document.getElementById('4734ec35-f89b-4418-86a9-dbc57b57aceb');\n",
              "var x = new MutationObserver(function (mutations, observer) {{\n",
              "        var display = window.getComputedStyle(gd).display;\n",
              "        if (!display || display === 'none') {{\n",
              "            console.log([gd, 'removed!']);\n",
              "            Plotly.purge(gd);\n",
              "            observer.disconnect();\n",
              "        }}\n",
              "}});\n",
              "\n",
              "// Listen for the removal of the full notebook cells\n",
              "var notebookContainer = gd.closest('#notebook-container');\n",
              "if (notebookContainer) {{\n",
              "    x.observe(notebookContainer, {childList: true});\n",
              "}}\n",
              "\n",
              "// Listen for the clearing of the current output cell\n",
              "var outputEl = gd.closest('.output');\n",
              "if (outputEl) {{\n",
              "    x.observe(outputEl, {childList: true});\n",
              "}}\n",
              "\n",
              "                        })\n",
              "                };\n",
              "                \n",
              "            </script>\n",
              "        </div>\n",
              "</body>\n",
              "</html>"
            ]
          },
          "metadata": {
            "tags": []
          }
        }
      ]
    },
    {
      "cell_type": "markdown",
      "metadata": {
        "id": "CF6McGwSRisQ"
      },
      "source": [
        "##6. Busiest Bike"
      ]
    },
    {
      "cell_type": "code",
      "metadata": {
        "id": "iKFdWrChsE4n",
        "outputId": "e561f588-9b23-4dc2-eae4-d46944a5c586",
        "colab": {
          "base_uri": "https://localhost:8080/",
          "height": 204
        }
      },
      "source": [
        "minutes = df['tripduration']/60\n",
        "df['speed'] = df['distance']/minutes\n",
        "\n",
        "bike_use_df = df.groupby(['bikeid']).size().reset_index(name = 'Number of Times Used')\n",
        "bike_use_df = bike_use_df.sort_values('Number of Times Used', ascending = False)\n",
        "bike_use_df = bike_use_df.head()\n",
        "bike_use_df"
      ],
      "execution_count": 46,
      "outputs": [
        {
          "output_type": "execute_result",
          "data": {
            "text/html": [
              "<div>\n",
              "<style scoped>\n",
              "    .dataframe tbody tr th:only-of-type {\n",
              "        vertical-align: middle;\n",
              "    }\n",
              "\n",
              "    .dataframe tbody tr th {\n",
              "        vertical-align: top;\n",
              "    }\n",
              "\n",
              "    .dataframe thead th {\n",
              "        text-align: right;\n",
              "    }\n",
              "</style>\n",
              "<table border=\"1\" class=\"dataframe\">\n",
              "  <thead>\n",
              "    <tr style=\"text-align: right;\">\n",
              "      <th></th>\n",
              "      <th>bikeid</th>\n",
              "      <th>Number of Times Used</th>\n",
              "    </tr>\n",
              "  </thead>\n",
              "  <tbody>\n",
              "    <tr>\n",
              "      <th>9010</th>\n",
              "      <td>32767</td>\n",
              "      <td>34</td>\n",
              "    </tr>\n",
              "    <tr>\n",
              "      <th>8998</th>\n",
              "      <td>32755</td>\n",
              "      <td>29</td>\n",
              "    </tr>\n",
              "    <tr>\n",
              "      <th>9215</th>\n",
              "      <td>32993</td>\n",
              "      <td>27</td>\n",
              "    </tr>\n",
              "    <tr>\n",
              "      <th>9249</th>\n",
              "      <td>33027</td>\n",
              "      <td>27</td>\n",
              "    </tr>\n",
              "    <tr>\n",
              "      <th>8569</th>\n",
              "      <td>32294</td>\n",
              "      <td>26</td>\n",
              "    </tr>\n",
              "  </tbody>\n",
              "</table>\n",
              "</div>"
            ],
            "text/plain": [
              "      bikeid  Number of Times Used\n",
              "9010   32767                    34\n",
              "8998   32755                    29\n",
              "9215   32993                    27\n",
              "9249   33027                    27\n",
              "8569   32294                    26"
            ]
          },
          "metadata": {
            "tags": []
          },
          "execution_count": 46
        }
      ]
    },
    {
      "cell_type": "markdown",
      "metadata": {
        "id": "XAC3QcaH6RW-"
      },
      "source": [
        "###Therefore, busiest bike is bike id 32767 which is used 34 times in the month of February."
      ]
    },
    {
      "cell_type": "code",
      "metadata": {
        "id": "asVrF_gaRj0l",
        "outputId": "cbe97df9-bdde-4d09-cd0f-087890fe4a6d",
        "colab": {
          "base_uri": "https://localhost:8080/",
          "height": 462
        }
      },
      "source": [
        "df.head()"
      ],
      "execution_count": 18,
      "outputs": [
        {
          "output_type": "execute_result",
          "data": {
            "text/html": [
              "<div>\n",
              "<style scoped>\n",
              "    .dataframe tbody tr th:only-of-type {\n",
              "        vertical-align: middle;\n",
              "    }\n",
              "\n",
              "    .dataframe tbody tr th {\n",
              "        vertical-align: top;\n",
              "    }\n",
              "\n",
              "    .dataframe thead th {\n",
              "        text-align: right;\n",
              "    }\n",
              "</style>\n",
              "<table border=\"1\" class=\"dataframe\">\n",
              "  <thead>\n",
              "    <tr style=\"text-align: right;\">\n",
              "      <th></th>\n",
              "      <th>tripduration</th>\n",
              "      <th>starttime</th>\n",
              "      <th>stoptime</th>\n",
              "      <th>start station id</th>\n",
              "      <th>start station name</th>\n",
              "      <th>start station latitude</th>\n",
              "      <th>start station longitude</th>\n",
              "      <th>end station id</th>\n",
              "      <th>end station name</th>\n",
              "      <th>end station latitude</th>\n",
              "      <th>end station longitude</th>\n",
              "      <th>bikeid</th>\n",
              "      <th>usertype</th>\n",
              "      <th>birth year</th>\n",
              "      <th>gender</th>\n",
              "      <th>distance</th>\n",
              "      <th>weekpart</th>\n",
              "      <th>daypart</th>\n",
              "      <th>age</th>\n",
              "      <th>speed</th>\n",
              "    </tr>\n",
              "  </thead>\n",
              "  <tbody>\n",
              "    <tr>\n",
              "      <th>0</th>\n",
              "      <td>2359</td>\n",
              "      <td>2018-02-01 10:36:18.8480</td>\n",
              "      <td>2018-02-01 11:15:38.0000</td>\n",
              "      <td>72</td>\n",
              "      <td>W 52 St &amp; 11 Ave</td>\n",
              "      <td>40.767272</td>\n",
              "      <td>-73.993929</td>\n",
              "      <td>3435</td>\n",
              "      <td>Grand St &amp; Elizabeth St</td>\n",
              "      <td>40.718822</td>\n",
              "      <td>-73.995960</td>\n",
              "      <td>32217</td>\n",
              "      <td>1</td>\n",
              "      <td>1959</td>\n",
              "      <td>2</td>\n",
              "      <td>7.438101</td>\n",
              "      <td>3</td>\n",
              "      <td>1</td>\n",
              "      <td>59</td>\n",
              "      <td>0.189184</td>\n",
              "    </tr>\n",
              "    <tr>\n",
              "      <th>1</th>\n",
              "      <td>1574</td>\n",
              "      <td>2018-02-02 15:31:55.8670</td>\n",
              "      <td>2018-02-02 15:58:10.1810</td>\n",
              "      <td>72</td>\n",
              "      <td>W 52 St &amp; 11 Ave</td>\n",
              "      <td>40.767272</td>\n",
              "      <td>-73.993929</td>\n",
              "      <td>490</td>\n",
              "      <td>8 Ave &amp; W 33 St</td>\n",
              "      <td>40.751551</td>\n",
              "      <td>-73.993934</td>\n",
              "      <td>29907</td>\n",
              "      <td>1</td>\n",
              "      <td>1954</td>\n",
              "      <td>1</td>\n",
              "      <td>7.438101</td>\n",
              "      <td>4</td>\n",
              "      <td>2</td>\n",
              "      <td>64</td>\n",
              "      <td>0.283536</td>\n",
              "    </tr>\n",
              "    <tr>\n",
              "      <th>2</th>\n",
              "      <td>2283</td>\n",
              "      <td>2018-02-03 10:12:06.6800</td>\n",
              "      <td>2018-02-03 10:50:09.9680</td>\n",
              "      <td>72</td>\n",
              "      <td>W 52 St &amp; 11 Ave</td>\n",
              "      <td>40.767272</td>\n",
              "      <td>-73.993929</td>\n",
              "      <td>3435</td>\n",
              "      <td>Grand St &amp; Elizabeth St</td>\n",
              "      <td>40.718822</td>\n",
              "      <td>-73.995960</td>\n",
              "      <td>16636</td>\n",
              "      <td>1</td>\n",
              "      <td>1966</td>\n",
              "      <td>2</td>\n",
              "      <td>7.438101</td>\n",
              "      <td>5</td>\n",
              "      <td>1</td>\n",
              "      <td>52</td>\n",
              "      <td>0.195482</td>\n",
              "    </tr>\n",
              "    <tr>\n",
              "      <th>3</th>\n",
              "      <td>1803</td>\n",
              "      <td>2018-02-03 16:21:32.3630</td>\n",
              "      <td>2018-02-03 16:51:36.3610</td>\n",
              "      <td>72</td>\n",
              "      <td>W 52 St &amp; 11 Ave</td>\n",
              "      <td>40.767272</td>\n",
              "      <td>-73.993929</td>\n",
              "      <td>309</td>\n",
              "      <td>Murray St &amp; West St</td>\n",
              "      <td>40.714979</td>\n",
              "      <td>-74.013012</td>\n",
              "      <td>31787</td>\n",
              "      <td>1</td>\n",
              "      <td>1957</td>\n",
              "      <td>1</td>\n",
              "      <td>7.438101</td>\n",
              "      <td>5</td>\n",
              "      <td>2</td>\n",
              "      <td>61</td>\n",
              "      <td>0.247524</td>\n",
              "    </tr>\n",
              "    <tr>\n",
              "      <th>4</th>\n",
              "      <td>1567</td>\n",
              "      <td>2018-02-03 17:25:55.6610</td>\n",
              "      <td>2018-02-03 17:52:03.3800</td>\n",
              "      <td>72</td>\n",
              "      <td>W 52 St &amp; 11 Ave</td>\n",
              "      <td>40.767272</td>\n",
              "      <td>-73.993929</td>\n",
              "      <td>236</td>\n",
              "      <td>St Marks Pl &amp; 2 Ave</td>\n",
              "      <td>40.728419</td>\n",
              "      <td>-73.987140</td>\n",
              "      <td>32055</td>\n",
              "      <td>1</td>\n",
              "      <td>1984</td>\n",
              "      <td>1</td>\n",
              "      <td>7.438101</td>\n",
              "      <td>5</td>\n",
              "      <td>2</td>\n",
              "      <td>34</td>\n",
              "      <td>0.284803</td>\n",
              "    </tr>\n",
              "  </tbody>\n",
              "</table>\n",
              "</div>"
            ],
            "text/plain": [
              "   tripduration                 starttime  ... age     speed\n",
              "0          2359  2018-02-01 10:36:18.8480  ...  59  0.189184\n",
              "1          1574  2018-02-02 15:31:55.8670  ...  64  0.283536\n",
              "2          2283  2018-02-03 10:12:06.6800  ...  52  0.195482\n",
              "3          1803  2018-02-03 16:21:32.3630  ...  61  0.247524\n",
              "4          1567  2018-02-03 17:25:55.6610  ...  34  0.284803\n",
              "\n",
              "[5 rows x 20 columns]"
            ]
          },
          "metadata": {
            "tags": []
          },
          "execution_count": 18
        }
      ]
    },
    {
      "cell_type": "markdown",
      "metadata": {
        "id": "YEbrIQhgRnj5"
      },
      "source": [
        "##7. Stolen Bikes\n",
        "Any trip which lasts longer than 1 hours (3,600 seconds) probably indicates a stolen bike, an anomaly, or incorrect docking of the bike. No rider would plan to go over the maximum 45 minutes allowed. "
      ]
    },
    {
      "cell_type": "code",
      "metadata": {
        "id": "chiJT2s9Rqm6",
        "outputId": "8f7d893e-ebba-44d3-b0de-a4262a50421c",
        "colab": {
          "base_uri": "https://localhost:8080/",
          "height": 204
        }
      },
      "source": [
        "stolen_bikes = df[df['tripduration']>3600]\n",
        "f= ['bikeid', 'tripduration']\n",
        "stolen_bikes_id = stolen_bikes[f]\n",
        "stolen_bikes_id = stolen_bikes_id.reset_index()\n",
        "stolen_bikes_id = stolen_bikes_id.drop(['index'],axis=1)\n",
        "stolen_bikes_id.head()\n"
      ],
      "execution_count": 19,
      "outputs": [
        {
          "output_type": "execute_result",
          "data": {
            "text/html": [
              "<div>\n",
              "<style scoped>\n",
              "    .dataframe tbody tr th:only-of-type {\n",
              "        vertical-align: middle;\n",
              "    }\n",
              "\n",
              "    .dataframe tbody tr th {\n",
              "        vertical-align: top;\n",
              "    }\n",
              "\n",
              "    .dataframe thead th {\n",
              "        text-align: right;\n",
              "    }\n",
              "</style>\n",
              "<table border=\"1\" class=\"dataframe\">\n",
              "  <thead>\n",
              "    <tr style=\"text-align: right;\">\n",
              "      <th></th>\n",
              "      <th>bikeid</th>\n",
              "      <th>tripduration</th>\n",
              "    </tr>\n",
              "  </thead>\n",
              "  <tbody>\n",
              "    <tr>\n",
              "      <th>0</th>\n",
              "      <td>19912</td>\n",
              "      <td>66057</td>\n",
              "    </tr>\n",
              "    <tr>\n",
              "      <th>1</th>\n",
              "      <td>15554</td>\n",
              "      <td>3739</td>\n",
              "    </tr>\n",
              "    <tr>\n",
              "      <th>2</th>\n",
              "      <td>18314</td>\n",
              "      <td>47843</td>\n",
              "    </tr>\n",
              "    <tr>\n",
              "      <th>3</th>\n",
              "      <td>16242</td>\n",
              "      <td>6251</td>\n",
              "    </tr>\n",
              "    <tr>\n",
              "      <th>4</th>\n",
              "      <td>32174</td>\n",
              "      <td>5567</td>\n",
              "    </tr>\n",
              "  </tbody>\n",
              "</table>\n",
              "</div>"
            ],
            "text/plain": [
              "   bikeid  tripduration\n",
              "0   19912         66057\n",
              "1   15554          3739\n",
              "2   18314         47843\n",
              "3   16242          6251\n",
              "4   32174          5567"
            ]
          },
          "metadata": {
            "tags": []
          },
          "execution_count": 19
        }
      ]
    },
    {
      "cell_type": "markdown",
      "metadata": {
        "id": "Dey_zHnGbSdx"
      },
      "source": [
        "###Therefore, we can say that bike id 19912, 15554, 18314, 16242, 32174 are stolen."
      ]
    },
    {
      "cell_type": "markdown",
      "metadata": {
        "id": "HgF9aAVxRuWF"
      },
      "source": [
        "##8. Model application"
      ]
    },
    {
      "cell_type": "code",
      "metadata": {
        "id": "RLHT15pSRvRF",
        "outputId": "c677cc15-62f0-4d4b-a13c-639fefc8228d",
        "colab": {
          "base_uri": "https://localhost:8080/",
          "height": 204
        }
      },
      "source": [
        "features = ['tripduration','weekpart','daypart','usertype','age', 'gender', 'distance', 'speed']\n",
        "df1 = df[features]\n",
        "df1.head()"
      ],
      "execution_count": 20,
      "outputs": [
        {
          "output_type": "execute_result",
          "data": {
            "text/html": [
              "<div>\n",
              "<style scoped>\n",
              "    .dataframe tbody tr th:only-of-type {\n",
              "        vertical-align: middle;\n",
              "    }\n",
              "\n",
              "    .dataframe tbody tr th {\n",
              "        vertical-align: top;\n",
              "    }\n",
              "\n",
              "    .dataframe thead th {\n",
              "        text-align: right;\n",
              "    }\n",
              "</style>\n",
              "<table border=\"1\" class=\"dataframe\">\n",
              "  <thead>\n",
              "    <tr style=\"text-align: right;\">\n",
              "      <th></th>\n",
              "      <th>tripduration</th>\n",
              "      <th>weekpart</th>\n",
              "      <th>daypart</th>\n",
              "      <th>usertype</th>\n",
              "      <th>age</th>\n",
              "      <th>gender</th>\n",
              "      <th>distance</th>\n",
              "      <th>speed</th>\n",
              "    </tr>\n",
              "  </thead>\n",
              "  <tbody>\n",
              "    <tr>\n",
              "      <th>0</th>\n",
              "      <td>2359</td>\n",
              "      <td>3</td>\n",
              "      <td>1</td>\n",
              "      <td>1</td>\n",
              "      <td>59</td>\n",
              "      <td>2</td>\n",
              "      <td>7.438101</td>\n",
              "      <td>0.189184</td>\n",
              "    </tr>\n",
              "    <tr>\n",
              "      <th>1</th>\n",
              "      <td>1574</td>\n",
              "      <td>4</td>\n",
              "      <td>2</td>\n",
              "      <td>1</td>\n",
              "      <td>64</td>\n",
              "      <td>1</td>\n",
              "      <td>7.438101</td>\n",
              "      <td>0.283536</td>\n",
              "    </tr>\n",
              "    <tr>\n",
              "      <th>2</th>\n",
              "      <td>2283</td>\n",
              "      <td>5</td>\n",
              "      <td>1</td>\n",
              "      <td>1</td>\n",
              "      <td>52</td>\n",
              "      <td>2</td>\n",
              "      <td>7.438101</td>\n",
              "      <td>0.195482</td>\n",
              "    </tr>\n",
              "    <tr>\n",
              "      <th>3</th>\n",
              "      <td>1803</td>\n",
              "      <td>5</td>\n",
              "      <td>2</td>\n",
              "      <td>1</td>\n",
              "      <td>61</td>\n",
              "      <td>1</td>\n",
              "      <td>7.438101</td>\n",
              "      <td>0.247524</td>\n",
              "    </tr>\n",
              "    <tr>\n",
              "      <th>4</th>\n",
              "      <td>1567</td>\n",
              "      <td>5</td>\n",
              "      <td>2</td>\n",
              "      <td>1</td>\n",
              "      <td>34</td>\n",
              "      <td>1</td>\n",
              "      <td>7.438101</td>\n",
              "      <td>0.284803</td>\n",
              "    </tr>\n",
              "  </tbody>\n",
              "</table>\n",
              "</div>"
            ],
            "text/plain": [
              "   tripduration  weekpart  daypart  usertype  age  gender  distance     speed\n",
              "0          2359         3        1         1   59       2  7.438101  0.189184\n",
              "1          1574         4        2         1   64       1  7.438101  0.283536\n",
              "2          2283         5        1         1   52       2  7.438101  0.195482\n",
              "3          1803         5        2         1   61       1  7.438101  0.247524\n",
              "4          1567         5        2         1   34       1  7.438101  0.284803"
            ]
          },
          "metadata": {
            "tags": []
          },
          "execution_count": 20
        }
      ]
    },
    {
      "cell_type": "code",
      "metadata": {
        "id": "uHCu8pAlRxlh",
        "outputId": "44ca2493-0879-45f2-ad3a-17189302e1ac",
        "colab": {
          "base_uri": "https://localhost:8080/",
          "height": 557
        }
      },
      "source": [
        "import seaborn as sns\n",
        "import matplotlib.pyplot as plt\n",
        "\n",
        "sns.set_theme(style=\"white\")\n",
        "\n",
        "corr = df1.corr()\n",
        "mask = np.triu(np.ones_like(corr, dtype=bool))\n",
        "f, ax = plt.subplots(figsize=(11, 9))\n",
        "\n",
        "cmap = sns.diverging_palette(230, 20, as_cmap=True)\n",
        "\n",
        "sns.heatmap(corr, mask=mask, cmap=cmap, vmax=.3, center=0,\n",
        "            square=True, linewidths=.5, cbar_kws={\"shrink\": .5})"
      ],
      "execution_count": 21,
      "outputs": [
        {
          "output_type": "execute_result",
          "data": {
            "text/plain": [
              "<matplotlib.axes._subplots.AxesSubplot at 0x7f41dd0cb630>"
            ]
          },
          "metadata": {
            "tags": []
          },
          "execution_count": 21
        },
        {
          "output_type": "display_data",
          "data": {
            "image/png": "[encoded data removed]",
            "text/plain": [
              "<Figure size 792x648 with 2 Axes>"
            ]
          },
          "metadata": {
            "tags": []
          }
        }
      ]
    },
    {
      "cell_type": "markdown",
      "metadata": {
        "id": "gAqsre7U7XBo"
      },
      "source": [
        "##Feature engineering"
      ]
    },
    {
      "cell_type": "code",
      "metadata": {
        "id": "Kc9p8ZsmRz-2",
        "outputId": "47d4e917-ea34-4d57-8239-8581385f381b",
        "colab": {
          "base_uri": "https://localhost:8080/"
        }
      },
      "source": [
        "from sklearn import preprocessing\n",
        "import matplotlib.pyplot as plt\n",
        "from sklearn.model_selection import train_test_split\n",
        "predictors = ['weekpart','daypart','usertype','age', 'gender', 'distance', 'speed']\n",
        "X = df[predictors]\n",
        "y = df['tripduration']\n",
        "\n",
        "x_train,x_test,y_train,y_test = train_test_split(X,y,test_size = 0.3,random_state=42)\n",
        "print(x_train.shape,x_test.shape,y_train.shape,y_test.shape)"
      ],
      "execution_count": 22,
      "outputs": [
        {
          "output_type": "stream",
          "text": [
            "(50056, 7) (21453, 7) (50056,) (21453,)\n"
          ],
          "name": "stdout"
        }
      ]
    },
    {
      "cell_type": "code",
      "metadata": {
        "id": "SmL8RFBQb_pG"
      },
      "source": [
        "from sklearn.metrics import accuracy_score, log_loss\n",
        "from sklearn.neighbors import KNeighborsClassifier\n",
        "from sklearn.svm import SVC, LinearSVC\n",
        "from sklearn.tree import DecisionTreeClassifier\n",
        "from sklearn.ensemble import RandomForestRegressor\n",
        "from sklearn.ensemble import RandomForestClassifier\n",
        "from sklearn.linear_model import LinearRegression\n"
      ],
      "execution_count": 23,
      "outputs": []
    },
    {
      "cell_type": "code",
      "metadata": {
        "id": "uGmHZqG2f2Py",
        "outputId": "36e03b1a-2ec4-4bbf-c91c-bdda5c2b37e0",
        "colab": {
          "base_uri": "https://localhost:8080/"
        }
      },
      "source": [
        "model = RandomForestRegressor(n_estimators=100,max_depth=25)\n",
        "model.fit(x_train,y_train)"
      ],
      "execution_count": 24,
      "outputs": [
        {
          "output_type": "execute_result",
          "data": {
            "text/plain": [
              "RandomForestRegressor(bootstrap=True, ccp_alpha=0.0, criterion='mse',\n",
              "                      max_depth=25, max_features='auto', max_leaf_nodes=None,\n",
              "                      max_samples=None, min_impurity_decrease=0.0,\n",
              "                      min_impurity_split=None, min_samples_leaf=1,\n",
              "                      min_samples_split=2, min_weight_fraction_leaf=0.0,\n",
              "                      n_estimators=100, n_jobs=None, oob_score=False,\n",
              "                      random_state=None, verbose=0, warm_start=False)"
            ]
          },
          "metadata": {
            "tags": []
          },
          "execution_count": 24
        }
      ]
    },
    {
      "cell_type": "code",
      "metadata": {
        "id": "relalCepf4VO",
        "outputId": "e748f316-56f0-451e-9b66-5a385a7037d5",
        "colab": {
          "base_uri": "https://localhost:8080/"
        }
      },
      "source": [
        "print(model.score(x_train,y_train))\n",
        "print(model.score(x_test,y_test))"
      ],
      "execution_count": 25,
      "outputs": [
        {
          "output_type": "stream",
          "text": [
            "0.9915779465497001\n",
            "0.9979980985308738\n"
          ],
          "name": "stdout"
        }
      ]
    },
    {
      "cell_type": "code",
      "metadata": {
        "id": "tcy33ekUvagk",
        "outputId": "ff3c2811-ccf8-48b0-863b-a45fdf2c47e5",
        "colab": {
          "base_uri": "https://localhost:8080/"
        }
      },
      "source": [
        "model = LinearRegression()\n",
        "model.fit(x_train,y_train)"
      ],
      "execution_count": 26,
      "outputs": [
        {
          "output_type": "execute_result",
          "data": {
            "text/plain": [
              "LinearRegression(copy_X=True, fit_intercept=True, n_jobs=None, normalize=False)"
            ]
          },
          "metadata": {
            "tags": []
          },
          "execution_count": 26
        }
      ]
    },
    {
      "cell_type": "code",
      "metadata": {
        "id": "werBKOvcvj2u",
        "outputId": "eef95a24-76f0-40e0-e334-fc0d8a3a658c",
        "colab": {
          "base_uri": "https://localhost:8080/"
        }
      },
      "source": [
        "print(model.score(x_train,y_train))\n",
        "print(model.score(x_test,y_test))"
      ],
      "execution_count": 27,
      "outputs": [
        {
          "output_type": "stream",
          "text": [
            "0.0079602966199801\n",
            "0.007492669073952851\n"
          ],
          "name": "stdout"
        }
      ]
    },
    {
      "cell_type": "code",
      "metadata": {
        "id": "zzrLjPV4wcAH",
        "outputId": "899af153-68e0-4388-c53d-4effe804b4b0",
        "colab": {
          "base_uri": "https://localhost:8080/"
        }
      },
      "source": [
        "from sklearn.linear_model import Lasso\n",
        "model = Lasso(alpha=1.0)\n",
        "model.fit(x_train,y_train)"
      ],
      "execution_count": 28,
      "outputs": [
        {
          "output_type": "execute_result",
          "data": {
            "text/plain": [
              "Lasso(alpha=1.0, copy_X=True, fit_intercept=True, max_iter=1000,\n",
              "      normalize=False, positive=False, precompute=False, random_state=None,\n",
              "      selection='cyclic', tol=0.0001, warm_start=False)"
            ]
          },
          "metadata": {
            "tags": []
          },
          "execution_count": 28
        }
      ]
    },
    {
      "cell_type": "code",
      "metadata": {
        "id": "GeCrGXJTwoc2",
        "outputId": "0dd51fe5-6558-4563-e52c-a66be5062814",
        "colab": {
          "base_uri": "https://localhost:8080/"
        }
      },
      "source": [
        "print(model.score(x_train,y_train))\n",
        "print(model.score(x_test,y_test))"
      ],
      "execution_count": 29,
      "outputs": [
        {
          "output_type": "stream",
          "text": [
            "0.007960272025823723\n",
            "0.007499367257917444\n"
          ],
          "name": "stdout"
        }
      ]
    },
    {
      "cell_type": "markdown",
      "metadata": {
        "id": "wK3dE8yVvMVa"
      },
      "source": [
        "##Accuracy for predicting tripduration\n",
        "1. Random Forest Regression = 99.79%\n",
        "2. Linear Regression = 0.75%\n",
        "3. Lasso Regression = 0.75%\n",
        "\n",
        "Therefore, Random forest regression technique suits best for this model. Linear and Lasso regression failed as the data might have non linearity."
      ]
    },
    {
      "cell_type": "markdown",
      "metadata": {
        "id": "4UtISHbqqhX1"
      },
      "source": [
        "###Models to predict the gender of the user based on the features 'weekpart', 'daypart', 'usertype', 'age',  'distance', 'tripduration'."
      ]
    },
    {
      "cell_type": "code",
      "metadata": {
        "id": "BKfofRr5hIod",
        "outputId": "9f6839c1-3591-4557-e5fc-9bf29f050186",
        "colab": {
          "base_uri": "https://localhost:8080/"
        }
      },
      "source": [
        "predictors1 = ['weekpart','daypart','usertype','age', 'distance', 'tripduration', 'speed']\n",
        "x1 = df[predictors1]\n",
        "y1 = df['gender']\n",
        "\n",
        "x1_train,x1_test,y1_train,y1_test = train_test_split(x1,y1,test_size = 0.3,random_state=42)\n",
        "print(x1_train.shape,x1_test.shape,y1_train.shape,y1_test.shape)"
      ],
      "execution_count": 30,
      "outputs": [
        {
          "output_type": "stream",
          "text": [
            "(50056, 7) (21453, 7) (50056,) (21453,)\n"
          ],
          "name": "stdout"
        }
      ]
    },
    {
      "cell_type": "code",
      "metadata": {
        "id": "9yumjYijh6Rm",
        "outputId": "feb4a645-bfa2-4300-d445-9f84225e47b2",
        "colab": {
          "base_uri": "https://localhost:8080/"
        }
      },
      "source": [
        "classifiers = [\n",
        "    KNeighborsClassifier(3),\n",
        "    SVC(kernel=\"rbf\", C=0.025, probability=True),\n",
        "    DecisionTreeClassifier(),\n",
        "    RandomForestClassifier()\n",
        "    ]\n",
        "\n",
        "from sklearn.metrics import confusion_matrix\n",
        "for classifier in classifiers:\n",
        "  model = classifier.fit(x1_train, y1_train)\n",
        "  print(classifier)\n",
        "  print(\"model score: %.3f\" % model.score(x1_test, y1_test))\n",
        "  y1_pred = classifier.predict(x1_test)\n",
        "  print(\"----------------------------------------------------------------------------------------------------------------------\")\n",
        "  print(confusion_matrix(y1_test, y1_pred))"
      ],
      "execution_count": 32,
      "outputs": [
        {
          "output_type": "stream",
          "text": [
            "KNeighborsClassifier(algorithm='auto', leaf_size=30, metric='minkowski',\n",
            "                     metric_params=None, n_jobs=None, n_neighbors=3, p=2,\n",
            "                     weights='uniform')\n",
            "model score: 0.648\n",
            "----------------------------------------------------------------------------------------------------------------------\n",
            "[[ 2873   231    46]\n",
            " [  999 10162  2169]\n",
            " [  365  3739   869]]\n",
            "SVC(C=0.025, break_ties=False, cache_size=200, class_weight=None, coef0=0.0,\n",
            "    decision_function_shape='ovr', degree=3, gamma='scale', kernel='rbf',\n",
            "    max_iter=-1, probability=True, random_state=None, shrinking=True, tol=0.001,\n",
            "    verbose=False)\n",
            "model score: 0.621\n",
            "----------------------------------------------------------------------------------------------------------------------\n",
            "[[    0  3150     0]\n",
            " [    0 13330     0]\n",
            " [    0  4973     0]]\n",
            "DecisionTreeClassifier(ccp_alpha=0.0, class_weight=None, criterion='gini',\n",
            "                       max_depth=None, max_features=None, max_leaf_nodes=None,\n",
            "                       min_impurity_decrease=0.0, min_impurity_split=None,\n",
            "                       min_samples_leaf=1, min_samples_split=2,\n",
            "                       min_weight_fraction_leaf=0.0, presort='deprecated',\n",
            "                       random_state=None, splitter='best')\n",
            "model score: 0.657\n",
            "----------------------------------------------------------------------------------------------------------------------\n",
            "[[2959  136   55]\n",
            " [ 231 9610 3489]\n",
            " [  67 3388 1518]]\n",
            "RandomForestClassifier(bootstrap=True, ccp_alpha=0.0, class_weight=None,\n",
            "                       criterion='gini', max_depth=None, max_features='auto',\n",
            "                       max_leaf_nodes=None, max_samples=None,\n",
            "                       min_impurity_decrease=0.0, min_impurity_split=None,\n",
            "                       min_samples_leaf=1, min_samples_split=2,\n",
            "                       min_weight_fraction_leaf=0.0, n_estimators=100,\n",
            "                       n_jobs=None, oob_score=False, random_state=None,\n",
            "                       verbose=0, warm_start=False)\n",
            "model score: 0.709\n",
            "----------------------------------------------------------------------------------------------------------------------\n",
            "[[ 2951   166    33]\n",
            " [  132 11324  1874]\n",
            " [   41  3993   939]]\n"
          ],
          "name": "stdout"
        }
      ]
    },
    {
      "cell_type": "markdown",
      "metadata": {
        "id": "ijPOp03DqPQI"
      },
      "source": [
        "##Accuracy for predicting gender\n",
        "1. KNN = 64.8%\n",
        "2. SVC = 62.1%\n",
        "3. Decision Tree = 65.4%\n",
        "4. Random Forest Classifier = 71%\n",
        "\n",
        "The highest accuracy is given by Random Forest Classifier as it adapts non-linearity. It is constructed of many trees, with different sampling, it could work on dataset with great variance. \n",
        "\n",
        "The second highest accuracy is given by Decision tree. The reason is same as Random forest because random forest is a forest of decision trees."
      ]
    },
    {
      "cell_type": "markdown",
      "metadata": {
        "id": "G2_RHjMg9Y2E"
      },
      "source": [
        "##Prediction using KNN classifier, SVC, Decision tree and Random forest\n",
        "example set:\n",
        "\n",
        "tripduration:\t2359 \t\n",
        "\n",
        "daypart:1\t\n",
        "\n",
        "age:1\t\n",
        "\n",
        "weekpart: 3\n",
        "\n",
        "distance: 7.438101\n",
        "\n",
        "speed: 0.189184\n",
        "\n",
        "gender: 2"
      ]
    },
    {
      "cell_type": "code",
      "metadata": {
        "id": "Lbw-2Pqy7r3W",
        "outputId": "abeb2a50-40eb-4a30-f3ce-addcdfc2d329",
        "colab": {
          "base_uri": "https://localhost:8080/"
        }
      },
      "source": [
        "example_gender = [['3',\t'1',\t'1',\t'59', '7.438101', '2359',\t'0.189184']]\n",
        "target_name = [0,1,2]\n",
        "print('Predicted gender for ', example_gender, ' using KNN classifier is ', target_name[classifiers[0].predict(example_gender)[0]])"
      ],
      "execution_count": 51,
      "outputs": [
        {
          "output_type": "stream",
          "text": [
            "Predicted gender for  [['3', '1', '1', '59', '7.438101', '2359', '0.189184']]  is  2\n"
          ],
          "name": "stdout"
        },
        {
          "output_type": "stream",
          "text": [
            "/usr/local/lib/python3.6/dist-packages/sklearn/neighbors/_classification.py:171: FutureWarning:\n",
            "\n",
            "Beginning in version 0.22, arrays of bytes/strings will be converted to decimal numbers if dtype='numeric'. It is recommended that you convert the array to a float dtype before using it in scikit-learn, for example by using your_array = your_array.astype(np.float64).\n",
            "\n",
            "/usr/local/lib/python3.6/dist-packages/sklearn/neighbors/_base.py:605: FutureWarning:\n",
            "\n",
            "Beginning in version 0.22, arrays of bytes/strings will be converted to decimal numbers if dtype='numeric'. It is recommended that you convert the array to a float dtype before using it in scikit-learn, for example by using your_array = your_array.astype(np.float64).\n",
            "\n"
          ],
          "name": "stderr"
        }
      ]
    },
    {
      "cell_type": "code",
      "metadata": {
        "id": "zzPOkHSQ_KQ7",
        "outputId": "6171818e-1063-4166-cf05-8d001b88a7c8",
        "colab": {
          "base_uri": "https://localhost:8080/"
        }
      },
      "source": [
        "print('Predicted gender for ', example_gender, ' using SVC is ', target_name[classifiers[1].predict(example_gender)[0]])"
      ],
      "execution_count": 55,
      "outputs": [
        {
          "output_type": "stream",
          "text": [
            "Predicted gender for  [['3', '1', '1', '59', '7.438101', '2359', '0.189184']]  using SVC is  1\n"
          ],
          "name": "stdout"
        }
      ]
    },
    {
      "cell_type": "code",
      "metadata": {
        "id": "jZqupyQq-4J-",
        "outputId": "e5706388-90ae-4891-90fb-f77647ea238f",
        "colab": {
          "base_uri": "https://localhost:8080/"
        }
      },
      "source": [
        "print('Predicted gender for ', example_gender, ' using Decision tree classifier is ', target_name[classifiers[2].predict(example_gender)[0]])"
      ],
      "execution_count": 52,
      "outputs": [
        {
          "output_type": "stream",
          "text": [
            "Predicted gender for  [['3', '1', '1', '59', '7.438101', '2359', '0.189184']]  using Decision tree classifier is  2\n"
          ],
          "name": "stdout"
        }
      ]
    },
    {
      "cell_type": "code",
      "metadata": {
        "id": "OdE_5bjp_HX2",
        "outputId": "ae9506f6-93e3-4094-ce81-d0915d6d645e",
        "colab": {
          "base_uri": "https://localhost:8080/"
        }
      },
      "source": [
        "print('Predicted gender for ', example_gender, ' using Random Forest classifier is ', target_name[classifiers[3].predict(example_gender)[0]])"
      ],
      "execution_count": 54,
      "outputs": [
        {
          "output_type": "stream",
          "text": [
            "Predicted gender for  [['3', '1', '1', '59', '7.438101', '2359', '0.189184']]  using Random Forest classifier is  2\n"
          ],
          "name": "stdout"
        }
      ]
    },
    {
      "cell_type": "markdown",
      "metadata": {
        "id": "QVzpxfMy-IVl"
      },
      "source": [
        "##Hence, the prediction is correct for every classifier except for SVC since accuracy of SVC is least."
      ]
    }
  ]
}